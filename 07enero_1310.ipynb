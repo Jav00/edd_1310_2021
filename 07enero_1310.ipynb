{
  "nbformat": 4,
  "nbformat_minor": 0,
  "metadata": {
    "colab": {
      "name": "07enero_1310.ipynb",
      "provenance": [],
      "authorship_tag": "ABX9TyNpTtzqDRLZqeD1VZQFVh1G",
      "include_colab_link": true
    },
    "kernelspec": {
      "name": "python3",
      "display_name": "Python 3"
    }
  },
  "cells": [
    {
      "cell_type": "markdown",
      "metadata": {
        "id": "view-in-github",
        "colab_type": "text"
      },
      "source": [
        "<a href=\"https://colab.research.google.com/github/Jav00/edd_1310_2021/blob/master/07enero_1310.ipynb\" target=\"_parent\"><img src=\"https://colab.research.google.com/assets/colab-badge.svg\" alt=\"Open In Colab\"/></a>"
      ]
    },
    {
      "cell_type": "code",
      "metadata": {
        "colab": {
          "base_uri": "https://localhost:8080/"
        },
        "id": "KoTEXzuYRtOM",
        "outputId": "d1a90e8a-3778-437d-e9f2-ab575450bd35"
      },
      "source": [
        " \n",
        "class Queue:\n",
        "    def __init__(self):\n",
        "        self.__data = list()\n",
        " \n",
        "    def is_empty(self):\n",
        "        return len(self.__data) == 0\n",
        " \n",
        "    def length(self):\n",
        "        return len(self.__data)\n",
        " \n",
        "    def enqueue(self, elem):\n",
        "        self.__data.append(elem)\n",
        " \n",
        "    def dequeue(self):\n",
        "        if not self.is_empty:\n",
        "            print(\"COLA VACIA\")\n",
        "        else:\n",
        "            return self.__data.pop(0)\n",
        " \n",
        "    def to_string (self):\n",
        "        cadena = \"\"\n",
        "        for elem in self.__data:\n",
        "            cadena = cadena + \"|\" + str(elem)\n",
        "        cadena = cadena + \"|\"\n",
        "        return cadena\n",
        " \n",
        "class BoundedPriorityQueue:\n",
        "    def __init__( self , niveles):\n",
        "        self.__data = [Queue() for x in range(niveles)]\n",
        "        self.__size = 0\n",
        " \n",
        "    def is_empty (self):\n",
        "        return self.__size == 0\n",
        " \n",
        "    def length (self):\n",
        "        return self.__size\n",
        " \n",
        "    def enqueue(self, prioridad, elem):\n",
        "        if prioridad < len(self.__data) and prioridad >= 0:\n",
        "            self.__data[prioridad].enqueue(elem)\n",
        "            self.__size += 1\n",
        " \n",
        "    def dequeue(self):\n",
        "        if not self.is_empty():\n",
        "            for nivel in self.__data:\n",
        "                if not nivel.is_empty():\n",
        "                    self.__size -= 1\n",
        "                    return nivel.dequeue()\n",
        "            \n",
        "    def to_string(self):\n",
        "        print(\"Cola:\")\n",
        "        for nivel in range (len(self.__data)):\n",
        "            print(f\" Nivel {nivel} --> {self.__data[nivel].to_string()}\")\n",
        " \n",
        "print(\"Pruebas con prioridad acotada\")\n",
        "maestres ={\"prioridad\":4 , \"descripcion\":\"Maestre\" , \"personas\":[\"juan p\",\"Diego h\"]}\n",
        "ninos ={\"prioridad\":2 , \"descripcion\":\"Ni�os\" , \"personas\":[\"Santi h\",\"Angel h\"]}\n",
        "mecanicos ={\"prioridad\":4 , \"descripcion\":\"Mecanicos\" , \"personas\":[\"Diana t\",\"Maria Z\"]}\n",
        " \n",
        "cpa = BoundedPriorityQueue(7)\n",
        "cpa.enqueue(maestres['prioridad'], maestres)\n",
        "cpa.enqueue(ninos['prioridad'], ninos)\n",
        "cpa.enqueue(mecanicos['prioridad'], mecanicos)\n",
        "cpa.to_string()\n",
        "sig = cpa.dequeue()\n",
        "print (sig)"
      ],
      "execution_count": 2,
      "outputs": [
        {
          "output_type": "stream",
          "text": [
            "Pruebas con prioridad acotada\n",
            "Cola:\n",
            " Nivel 0 --> |\n",
            " Nivel 1 --> |\n",
            " Nivel 2 --> |{'prioridad': 2, 'descripcion': 'Ni�os', 'personas': ['Santi h', 'Angel h']}|\n",
            " Nivel 3 --> |\n",
            " Nivel 4 --> |{'prioridad': 4, 'descripcion': 'Maestre', 'personas': ['juan p', 'Diego h']}|{'prioridad': 4, 'descripcion': 'Mecanicos', 'personas': ['Diana t', 'Maria Z']}|\n",
            " Nivel 5 --> |\n",
            " Nivel 6 --> |\n",
            "{'prioridad': 2, 'descripcion': 'Ni�os', 'personas': ['Santi h', 'Angel h']}\n"
          ],
          "name": "stdout"
        }
      ]
    }
  ]
}