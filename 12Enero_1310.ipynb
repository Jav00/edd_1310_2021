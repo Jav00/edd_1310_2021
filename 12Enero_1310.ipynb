{
  "nbformat": 4,
  "nbformat_minor": 0,
  "metadata": {
    "colab": {
      "name": "12Enero_1310.ipynb",
      "provenance": [],
      "authorship_tag": "ABX9TyPcrPgD++3WmWRUVwlH9ZWX",
      "include_colab_link": true
    },
    "kernelspec": {
      "name": "python3",
      "display_name": "Python 3"
    }
  },
  "cells": [
    {
      "cell_type": "markdown",
      "metadata": {
        "id": "view-in-github",
        "colab_type": "text"
      },
      "source": [
        "<a href=\"https://colab.research.google.com/github/Jav00/edd_1310_2021/blob/master/12Enero_1310.ipynb\" target=\"_parent\"><img src=\"https://colab.research.google.com/assets/colab-badge.svg\" alt=\"Open In Colab\"/></a>"
      ]
    },
    {
      "cell_type": "code",
      "metadata": {
        "colab": {
          "base_uri": "https://localhost:8080/"
        },
        "id": "gFaerOpk7xnd",
        "outputId": "46a49562-95e6-454f-9d6a-996afa1ece64"
      },
      "source": [
        " def factorial(n):\n",
        "    if n == 0:\n",
        "        return 1\n",
        "    else:\n",
        "        return factorial(n - 1) * n\n",
        " \n",
        "def printRev( n ):\n",
        "    if n > 0:\n",
        "        \n",
        "        printRev(n - 1 )\n",
        "        print ( n )\n",
        " \n",
        "def fibonacci( n ):\n",
        "    if n == 1 or n == 0:\n",
        "        return n\n",
        "    if n > 1:\n",
        "        return (fibonacci(n-1) + fibonacci(n-2)) \n",
        " \n",
        "def main():\n",
        "    for num in range(1,11,1):\n",
        "        r = factorial(num)\n",
        "        print(f\"El factorial de {num} es {r}\")\n",
        " \n",
        "def main2():\n",
        "    printRev( 3 )\n",
        " \n",
        "def main3 ():\n",
        "    for num in range(11):\n",
        "        r = fibonacci(num)\n",
        "        print(str(fibonacci(num)) + ',',end=\"\")\n",
        "    print ()\n",
        "    \n",
        "def suma_lista_rec(lista):\n",
        "    if len(lista) == 1:\n",
        "        return lista[0]\n",
        "    else:\n",
        "        return lista.pop() + suma_lista_rec(lista)\n",
        "    \n",
        " \n",
        "def main4():\n",
        "    datos = [4,2,3,5]\n",
        "    res = suma_lista_rec(datos)\n",
        "    print(res)\n",
        " \n",
        " \n",
        "main()\n",
        "main2()\n",
        "main3()\n",
        "main4()"
      ],
      "execution_count": 5,
      "outputs": [
        {
          "output_type": "stream",
          "text": [
            "El factorial de 1 es 1\n",
            "El factorial de 2 es 2\n",
            "El factorial de 3 es 6\n",
            "El factorial de 4 es 24\n",
            "El factorial de 5 es 120\n",
            "El factorial de 6 es 720\n",
            "El factorial de 7 es 5040\n",
            "El factorial de 8 es 40320\n",
            "El factorial de 9 es 362880\n",
            "El factorial de 10 es 3628800\n",
            "1\n",
            "2\n",
            "3\n",
            "0,1,1,2,3,5,8,13,21,34,55,\n",
            "14\n"
          ],
          "name": "stdout"
        }
      ]
    }
  ]
}