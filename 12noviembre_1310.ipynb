{
  "nbformat": 4,
  "nbformat_minor": 0,
  "metadata": {
    "colab": {
      "name": "12noviembre_1310.ipynb",
      "provenance": [],
      "authorship_tag": "ABX9TyMi2vFI+AlPGD9SBJ8byVaQ",
      "include_colab_link": true
    },
    "kernelspec": {
      "name": "python3",
      "display_name": "Python 3"
    }
  },
  "cells": [
    {
      "cell_type": "markdown",
      "metadata": {
        "id": "view-in-github",
        "colab_type": "text"
      },
      "source": [
        "<a href=\"https://colab.research.google.com/github/Jav00/edd_1310_2021/blob/master/12noviembre_1310.ipynb\" target=\"_parent\"><img src=\"https://colab.research.google.com/assets/colab-badge.svg\" alt=\"Open In Colab\"/></a>"
      ]
    },
    {
      "cell_type": "code",
      "metadata": {
        "id": "XnMik_WtdM0M",
        "outputId": "f2821061-58e9-4c19-d468-44de8c3158e4",
        "colab": {
          "base_uri": "https://localhost:8080/"
        }
      },
      "source": [
        " class Nodo:\n",
        "    def __init__( self , dato ): \n",
        "        self.dato = dato\n",
        "        self.siguiente = None\n",
        " \n",
        "# ejemplo 1 #un solo elemento\n",
        " \n",
        "a = Nodo(12) \n",
        "print( a.dato )\n",
        "print( a.siguiente )\n",
        " \n",
        "# ejemplo 2\n",
        "a.siguiente = Nodo( 20 )\n",
        " \n",
        "#Ejemplo 3\n",
        "a.siguiente.siguiente = Nodo(30)\n",
        " \n",
        "#ejemplo 4\n",
        "a.siguiente.siguiente.siguiente = Nodo(40)\n",
        " \n",
        "#ejemplo 5\n",
        "a.siguiente.siguiente.siguiente.siguiente = Nodo(50)\n",
        " \n",
        "#Ejemplo 6\n",
        "#Eiminando el nodo 30 \n",
        "a.siguiente.siguiente=a.siguiente.siguiente.siguiente\n",
        " \n",
        "#ejemplo 7\n",
        "a.siguiente.siguiente.siguiente.dato = 45\n",
        " \n",
        "#EJEMPLO 8 insertar dato\n",
        "tmp=a.siguiente.siguiente.siguiente #se crea una temporal, para noperder referencia\n",
        "a.siguiente.siguiente.siguiente=Nodo(48)#Creando nodo que se va insertar\n",
        "a.siguiente.siguiente.siguiente.siguiente=tmp\n",
        "#Recrorrido transversal\n",
        "curr_node=a\n",
        "print(curr_node.dato,\"--> \", end=\"\")\n",
        "while( curr_node.siguiente != None):\n",
        "  curr_node = curr_node.siguiente\n",
        "  print(curr_node.dato,\"--> \", end=\"\")\n",
        "print(\"\")"
      ],
      "execution_count": 24,
      "outputs": [
        {
          "output_type": "stream",
          "text": [
            "12\n",
            "None\n",
            "12 --> 20 --> 40 --> 48 --> 45 --> \n"
          ],
          "name": "stdout"
        }
      ]
    }
  ]
}