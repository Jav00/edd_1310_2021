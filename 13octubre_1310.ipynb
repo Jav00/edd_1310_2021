{
  "nbformat": 4,
  "nbformat_minor": 0,
  "metadata": {
    "colab": {
      "name": "13octubre_1310.ipynb",
      "provenance": [],
      "collapsed_sections": [],
      "authorship_tag": "ABX9TyNv4vGe7A4fYe96yCcCCz31",
      "include_colab_link": true
    },
    "kernelspec": {
      "name": "python3",
      "display_name": "Python 3"
    }
  },
  "cells": [
    {
      "cell_type": "markdown",
      "metadata": {
        "id": "view-in-github",
        "colab_type": "text"
      },
      "source": [
        "<a href=\"https://colab.research.google.com/github/Jav00/edd_1310_2021/blob/master/13octubre_1310.ipynb\" target=\"_parent\"><img src=\"https://colab.research.google.com/assets/colab-badge.svg\" alt=\"Open In Colab\"/></a>"
      ]
    },
    {
      "cell_type": "code",
      "metadata": {
        "id": "J9mTOPK_u01E",
        "outputId": "0f3b8c25-3134-4c90-d3e5-7216b767d0ce",
        "colab": {
          "base_uri": "https://localhost:8080/",
          "height": 105
        }
      },
      "source": [
        " alumno = {   \n",
        "          \"num_cta\"  :303030303,\n",
        "          \"carrera\" :\"ICO\",\n",
        "          \"promedio\" : 9.8, \n",
        "          \"materias\" : [\"EDD\",\"CYP\",\"Calidad\",\"Emprendimiento\"],\n",
        "          \"dirección\" : {\n",
        "                         \"calle\":\"rancho seco\",\n",
        "                         \"número\":23,\n",
        "                         \"delegación\":\"Neza\",\n",
        "                         \"estado\":{\n",
        "                                  \"id\":15,\n",
        "                                  \"nombre\":\"Estado de México\",\n",
        "                                  \"nombre_corto\":\"EdoMex\"\n",
        "                                  },\n",
        "                         \"CP\":57170\n",
        "                        }\n",
        "                          \n",
        "}\n",
        "print (alumno)\n",
        "alumno['carrera']=\"Ingeniería en computación\"\n",
        "print (alumno)\n",
        "alumno['nombre_completo']={'primer':\"Juan\",\n",
        "                          'segundo':\"Pedro\",\n",
        "                           \"materno\":\"Pérez\",\n",
        "                          \"paterno\":\"Gómez\"\n",
        "                         }\n",
        "alumno['semestre']=3\n",
        "print(alumno)\n",
        " \n",
        "print (f\"{alumno['nombre_completo']['primer']}{alumno['nombre_completo']['segundo']}\")"
      ],
      "execution_count": 16,
      "outputs": [
        {
          "output_type": "stream",
          "text": [
            "{'num_cta': 303030303, 'carrera': 'ICO', 'promedio': 9.8, 'materias': ['EDD', 'CYP', 'Calidad', 'Emprendimiento'], 'dirección': {'calle': 'rancho seco', 'número': 23, 'delegación': 'Neza', 'estado': {'id': 15, 'nombre': 'Estado de México', 'nombre_corto': 'EdoMex'}, 'CP': 57170}}\n",
            "{'num_cta': 303030303, 'carrera': 'Ingeniería en computación', 'promedio': 9.8, 'materias': ['EDD', 'CYP', 'Calidad', 'Emprendimiento'], 'dirección': {'calle': 'rancho seco', 'número': 23, 'delegación': 'Neza', 'estado': {'id': 15, 'nombre': 'Estado de México', 'nombre_corto': 'EdoMex'}, 'CP': 57170}}\n",
            "{'num_cta': 303030303, 'carrera': 'Ingeniería en computación', 'promedio': 9.8, 'materias': ['EDD', 'CYP', 'Calidad', 'Emprendimiento'], 'dirección': {'calle': 'rancho seco', 'número': 23, 'delegación': 'Neza', 'estado': {'id': 15, 'nombre': 'Estado de México', 'nombre_corto': 'EdoMex'}, 'CP': 57170}, 'nombre_completo': {'primer': 'Juan', 'segundo': 'Pedro', 'materno': 'Pérez', 'paterno': 'Gómez'}, 'semestre': 3}\n",
            "JuanPedro\n"
          ],
          "name": "stdout"
        }
      ]
    },
    {
      "cell_type": "code",
      "metadata": {
        "id": "QwxATNHKytiB",
        "outputId": "040d8f94-78b4-468d-a98a-013037f90c1f",
        "colab": {
          "base_uri": "https://localhost:8080/",
          "height": 430
        }
      },
      "source": [
        "# key() , values() y items()\n",
        " \n",
        "llaves=alumno.keys()\n",
        "print (llaves)\n",
        "for llave in llaves:\n",
        "    print (llave.upper())\n",
        " \n",
        "valores=alumno.values()\n",
        "for val in valores:\n",
        "    print(val)\n",
        " \n",
        "pares= alumno.items()\n",
        "print (pares)\n",
        "for elem in pares:\n",
        "    print (f\"El campo {elem[0]} tiene el valor {elem[1]}\")"
      ],
      "execution_count": 18,
      "outputs": [
        {
          "output_type": "stream",
          "text": [
            "dict_keys(['num_cta', 'carrera', 'promedio', 'materias', 'dirección', 'nombre_completo', 'semestre'])\n",
            "NUM_CTA\n",
            "CARRERA\n",
            "PROMEDIO\n",
            "MATERIAS\n",
            "DIRECCIÓN\n",
            "NOMBRE_COMPLETO\n",
            "SEMESTRE\n",
            "303030303\n",
            "Ingeniería en computación\n",
            "9.8\n",
            "['EDD', 'CYP', 'Calidad', 'Emprendimiento']\n",
            "{'calle': 'rancho seco', 'número': 23, 'delegación': 'Neza', 'estado': {'id': 15, 'nombre': 'Estado de México', 'nombre_corto': 'EdoMex'}, 'CP': 57170}\n",
            "{'primer': 'Juan', 'segundo': 'Pedro', 'materno': 'Pérez', 'paterno': 'Gómez'}\n",
            "3\n",
            "dict_items([('num_cta', 303030303), ('carrera', 'Ingeniería en computación'), ('promedio', 9.8), ('materias', ['EDD', 'CYP', 'Calidad', 'Emprendimiento']), ('dirección', {'calle': 'rancho seco', 'número': 23, 'delegación': 'Neza', 'estado': {'id': 15, 'nombre': 'Estado de México', 'nombre_corto': 'EdoMex'}, 'CP': 57170}), ('nombre_completo', {'primer': 'Juan', 'segundo': 'Pedro', 'materno': 'Pérez', 'paterno': 'Gómez'}), ('semestre', 3)])\n",
            "El campo num_cta tiene el valor 303030303\n",
            "El campo carrera tiene el valor Ingeniería en computación\n",
            "El campo promedio tiene el valor 9.8\n",
            "El campo materias tiene el valor ['EDD', 'CYP', 'Calidad', 'Emprendimiento']\n",
            "El campo dirección tiene el valor {'calle': 'rancho seco', 'número': 23, 'delegación': 'Neza', 'estado': {'id': 15, 'nombre': 'Estado de México', 'nombre_corto': 'EdoMex'}, 'CP': 57170}\n",
            "El campo nombre_completo tiene el valor {'primer': 'Juan', 'segundo': 'Pedro', 'materno': 'Pérez', 'paterno': 'Gómez'}\n",
            "El campo semestre tiene el valor 3\n"
          ],
          "name": "stdout"
        }
      ]
    },
    {
      "cell_type": "code",
      "metadata": {
        "id": "U0FpvPYI1HPu",
        "outputId": "817de7aa-fcb4-4dc0-fdb1-d9bfffe0cff1",
        "colab": {
          "base_uri": "https://localhost:8080/",
          "height": 54
        }
      },
      "source": [
        "computadoras = {\"procesador\":\"Intel i7\",\"ram\":\"Kingston 128GB\"}\n",
        "otros={\"monitor\":\"LG 49\\\"\",\"hd\":\"Toshiba 1TB\"}\n",
        "computadoras.update(otros) #Anexar otros a computadoras\n",
        "print (computadoras)"
      ],
      "execution_count": 21,
      "outputs": [
        {
          "output_type": "stream",
          "text": [
            "{'procesador': 'Intel i7', 'ram': 'Kingston 128GB', 'monitor': 'LG 49\"', 'hd': 'Toshiba 1TB'}\n"
          ],
          "name": "stdout"
        }
      ]
    },
    {
      "cell_type": "markdown",
      "metadata": {
        "id": "zd9qKY6c2rnn"
      },
      "source": [
        "## funciones (modularidad)\n",
        "- Unidades de código reutilizable\n",
        "- Es un mecanismo de organización de código\n",
        "- Una función toma de 0 a n parametros de entrada\n",
        "- Tiene una sola salida (return) DE cualquier tipo de dato\n",
        "- Solo puedes hacer dos cosas\n",
        " - definirla\n",
        " - llamarla\n",
        "- Se define con la palabra reservada 'def'"
      ]
    },
    {
      "cell_type": "code",
      "metadata": {
        "id": "uZBPhFa83-7F",
        "outputId": "d4938bce-b711-4d5e-e98c-5644c290c095",
        "colab": {
          "base_uri": "https://localhost:8080/",
          "height": 205
        }
      },
      "source": [
        "def sumar(x ,y):\n",
        "    resultado = x + y\n",
        "    return resultado\n",
        " \n",
        "def saludar(nombre):\n",
        "    print(f\"Hola {nombre}, ¿cómo estás?\")\n",
        "    return None\n",
        " \n",
        "#procesar None\n",
        "def multiplicar (valor , veces):\n",
        "    if valor != None:\n",
        "        c = valor * veces\n",
        "    else:\n",
        "        c = \"operación no valida\"\n",
        "    return c\n",
        " \n",
        "def operación (a,b,c):\n",
        "    res = a + (b/c)\n",
        "    return res\n",
        " \n",
        "print(sumar(10,5))\n",
        "print(sumar(2,6))\n",
        " \n",
        "c = sumar(3,7)\n",
        "print(c)\n",
        " \n",
        "saludar(\"Jesús\")\n",
        "print(saludar('Jose')) #No debe devolver nada, por eso el None\n",
        " \n",
        "print (multiplicar (5,6))\n",
        "print (multiplicar (None,6))\n",
        " \n",
        "print (operación (2,9,3))\n",
        "print (operación (2,3,9)) #La posición es importante\n",
        " \n",
        "print (operación (a=2,c=3,b=9))"
      ],
      "execution_count": 37,
      "outputs": [
        {
          "output_type": "stream",
          "text": [
            "15\n",
            "8\n",
            "10\n",
            "Hola Jesús, ¿cómo estás?\n",
            "Hola Jose, ¿cómo estás?\n",
            "None\n",
            "30\n",
            "operación no valida\n",
            "5.0\n",
            "2.3333333333333335\n",
            "5.0\n"
          ],
          "name": "stdout"
        }
      ]
    },
    {
      "cell_type": "code",
      "metadata": {
        "id": "7LX3Xg2G-lY_",
        "outputId": "12a73bc5-f97f-4090-8a61-c35f0fbe33eb",
        "colab": {
          "base_uri": "https://localhost:8080/",
          "height": 310
        }
      },
      "source": [
        " \n",
        "# Valores por defecto\n",
        " \n",
        "def comanda(primer,fuerte, postre=\"Galleta de animalito\"): #Si no se asigna valor\n",
        "    print(f\"De entrada pidió: {primer} \")\n",
        "    print(f\"De plato fuerte : {fuerte}\")\n",
        "    print(f\"Postre : {postre}\")\n",
        " \n",
        "# argumentos posicionales con tuplas *\n",
        " \n",
        "def comanda_2 (*opciones):\n",
        "    print(opciones)\n",
        "    print(f\"De entrada pidió: {opciones [0]} \")\n",
        "    print(f\"De plato fuerte : {opciones [1]}\")    \n",
        "    print(f\"Postre : {opciones [2]}\")\n",
        "    print(\"\\nIndicaciones extra: \")\n",
        "    for ind in opciones[3::]:\n",
        "        print(f\"\\t {ind}\")\n",
        " \n",
        " \n",
        "comanda (\"sopa aguada\",\"Tortas de papa\",\"Gelatina de limón\\n\")\n",
        "comanda (\"sopa aguada\",\"Tortas de papa\")\n",
        "comanda_2(\"sopa aguada\",\"Tortas de papa\",\"Gelatina de limón\",\n",
        "          \"las tortas bien cocidas\",\"dos limones\",\"Agua con hielo\")"
      ],
      "execution_count": 54,
      "outputs": [
        {
          "output_type": "stream",
          "text": [
            "De entrada pidió: sopa aguada \n",
            "De plato fuerte : Tortas de papa\n",
            "Postre : Gelatina de limón\n",
            "\n",
            "De entrada pidió: sopa aguada \n",
            "De plato fuerte : Tortas de papa\n",
            "Postre : Galleta de animalito\n",
            "('sopa aguada', 'Tortas de papa', 'Gelatina de limón', 'las tortas bien cocidas', 'dos limones', 'Agua con hielo')\n",
            "De entrada pidió: sopa aguada \n",
            "De plato fuerte : Tortas de papa\n",
            "Postre : Gelatina de limón\n",
            "\n",
            "Indicaciones extra: \n",
            "\t las tortas bien cocidas\n",
            "\t dos limones\n",
            "\t Agua con hielo\n"
          ],
          "name": "stdout"
        }
      ]
    },
    {
      "cell_type": "code",
      "metadata": {
        "id": "LvONZSySCdUb",
        "outputId": "b47b7463-4d63-431a-9ec1-543556d27541",
        "colab": {
          "base_uri": "https://localhost:8080/",
          "height": 156
        }
      },
      "source": [
        "# Argumentos posicionales con diccionarios **\n",
        " \n",
        "def comanda_3( **opciones):\n",
        "    print(opciones)\n",
        "    for op in opciones.items():\n",
        "        print(f\"{op[0]} -> {op[1]}\")\n",
        " \n",
        "comanda_3(primer=\"sopa aguada\",fuerte=\"Tortas de papa\",postre=\"Gelatina de limón\",\n",
        "          extra1=\"las tortas bien cocidas\",extra2=\"dos limones\",extra3=\"Agua con hielo\")"
      ],
      "execution_count": 57,
      "outputs": [
        {
          "output_type": "stream",
          "text": [
            "{'primer': 'sopa aguada', 'fuerte': 'Tortas de papa', 'postre': 'Gelatina de limón', 'extra1': 'las tortas bien cocidas', 'extra2': 'dos limones', 'extra3': 'Agua con hielo'}\n",
            "primer -> sopa aguada\n",
            "fuerte -> Tortas de papa\n",
            "postre -> Gelatina de limón\n",
            "extra1 -> las tortas bien cocidas\n",
            "extra2 -> dos limones\n",
            "extra3 -> Agua con hielo\n"
          ],
          "name": "stdout"
        }
      ]
    }
  ]
}