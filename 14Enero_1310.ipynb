{
  "nbformat": 4,
  "nbformat_minor": 0,
  "metadata": {
    "colab": {
      "name": "14Enero_1310.ipynb",
      "provenance": [],
      "authorship_tag": "ABX9TyOiXfr3Y02W7xv8+Em6b645",
      "include_colab_link": true
    },
    "kernelspec": {
      "name": "python3",
      "display_name": "Python 3"
    }
  },
  "cells": [
    {
      "cell_type": "markdown",
      "metadata": {
        "id": "view-in-github",
        "colab_type": "text"
      },
      "source": [
        "<a href=\"https://colab.research.google.com/github/Jav00/edd_1310_2021/blob/master/14Enero_1310.ipynb\" target=\"_parent\"><img src=\"https://colab.research.google.com/assets/colab-badge.svg\" alt=\"Open In Colab\"/></a>"
      ]
    },
    {
      "cell_type": "code",
      "metadata": {
        "colab": {
          "base_uri": "https://localhost:8080/"
        },
        "id": "pCpjF0HZRAga",
        "outputId": "da071a93-5f95-498f-c40e-b6eaee4b06ff"
      },
      "source": [
        "class nodoArbol:\n",
        "    def __init__(self, value , left = None , right = None):\n",
        "        self.data = value\n",
        "        self.left = left\n",
        "        self.right = right\n",
        "print(\"Prueba 1\\n\")\n",
        "arbol = nodoArbol(\"R\" , nodoArbol(\"C\"), nodoArbol(\"H\"))\n",
        "print(arbol.left.data)\n",
        "print(arbol.right.data)\n",
        "print(arbol.data)\n",
        "print(\"\\nPrueba 2\\n\")\n",
        "arbol2 = nodoArbol( 4 , nodoArbol(3,nodoArbol(2,nodoArbol(2))), nodoArbol((5),None,None))\n",
        "print(arbol2.data)\n",
        "print(arbol2.right.data)\n",
        "print(arbol2.left.data)\n",
        "print(arbol2.left.left.data)\n",
        "print(arbol2.left.left.left.data)"
      ],
      "execution_count": 3,
      "outputs": [
        {
          "output_type": "stream",
          "text": [
            "Prueba 1\n",
            "\n",
            "C\n",
            "H\n",
            "R\n",
            "\n",
            "Prueba 2\n",
            "\n",
            "4\n",
            "5\n",
            "3\n",
            "2\n",
            "2\n"
          ],
          "name": "stdout"
        }
      ]
    }
  ]
}