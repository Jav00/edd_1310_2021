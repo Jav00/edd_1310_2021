{
  "nbformat": 4,
  "nbformat_minor": 0,
  "metadata": {
    "colab": {
      "name": "15octubre_1310.ipynb",
      "provenance": [],
      "collapsed_sections": [],
      "authorship_tag": "ABX9TyO05jH5Qs6BzCfuNJnR4k04",
      "include_colab_link": true
    },
    "kernelspec": {
      "name": "python3",
      "display_name": "Python 3"
    }
  },
  "cells": [
    {
      "cell_type": "markdown",
      "metadata": {
        "id": "view-in-github",
        "colab_type": "text"
      },
      "source": [
        "<a href=\"https://colab.research.google.com/github/Jav00/edd_1310_2021/blob/master/15octubre_1310.ipynb\" target=\"_parent\"><img src=\"https://colab.research.google.com/assets/colab-badge.svg\" alt=\"Open In Colab\"/></a>"
      ]
    },
    {
      "cell_type": "code",
      "metadata": {
        "id": "CulOHbRDCXSR"
      },
      "source": [
        ""
      ],
      "execution_count": null,
      "outputs": []
    },
    {
      "cell_type": "markdown",
      "metadata": {
        "id": "Y7Zp8AxACaKp"
      },
      "source": [
        "#modulos"
      ]
    },
    {
      "cell_type": "code",
      "metadata": {
        "id": "5vOQnTyLE10U"
      },
      "source": [
        "from google.colab import drive\n",
        "drive.mount('/content/drive')"
      ],
      "execution_count": null,
      "outputs": []
    },
    {
      "cell_type": "code",
      "metadata": {
        "id": "6orwXNJ_CfzW",
        "outputId": "11207c7d-ff03-43b4-bcbd-d82000a1b38a",
        "colab": {
          "base_uri": "https://localhost:8080/",
          "height": 69
        }
      },
      "source": [
        " \n",
        "\"\"\"\n",
        "import mi_modulo\n",
        " \n",
        "x = mi_modulo.sumar(4,7)\n",
        " \n",
        "print(x)\n",
        "print (mi_modulo.multiplicar(3,5))\n",
        "\"\"\""
      ],
      "execution_count": 34,
      "outputs": [
        {
          "output_type": "execute_result",
          "data": {
            "application/vnd.google.colaboratory.intrinsic+json": {
              "type": "string"
            },
            "text/plain": [
              "'\\nimport mi_modulo\\n\\nx = mi_modulo.sumar(4,7)\\n\\nprint(x)\\nprint (mi_modulo.multiplicar(3,5))\\n'"
            ]
          },
          "metadata": {
            "tags": []
          },
          "execution_count": 34
        }
      ]
    },
    {
      "cell_type": "code",
      "metadata": {
        "id": "-bqsumgAKbMo",
        "outputId": "fc9773eb-180e-4ec8-9304-24f9506c6cec",
        "colab": {
          "base_uri": "https://localhost:8080/",
          "height": 51
        }
      },
      "source": [
        "from mi_modulo import sumar, dividir\n",
        " \n",
        "print (sumar(4,7))\n",
        "print (dividir(14,7))"
      ],
      "execution_count": null,
      "outputs": [
        {
          "output_type": "stream",
          "text": [
            "11\n",
            "2.0\n"
          ],
          "name": "stdout"
        }
      ]
    },
    {
      "cell_type": "code",
      "metadata": {
        "id": "YFEzyHZYLPqZ",
        "outputId": "6e1b9684-b320-4a78-ddf1-112ec89a71b3",
        "colab": {
          "base_uri": "https://localhost:8080/",
          "height": 34
        }
      },
      "source": [
        "import mi_modulo as patito #Asignar un alías\n",
        " \n",
        "print (patito.sumar(4,6))"
      ],
      "execution_count": null,
      "outputs": [
        {
          "output_type": "stream",
          "text": [
            "10\n"
          ],
          "name": "stdout"
        }
      ]
    },
    {
      "cell_type": "code",
      "metadata": {
        "id": "yiYDI0nhODYe",
        "outputId": "24023a33-32a2-473c-fc3c-dd85988e9440",
        "colab": {
          "base_uri": "https://localhost:8080/",
          "height": 52
        }
      },
      "source": [
        "from joke_generator import generate\n",
        " \n",
        "generate ()"
      ],
      "execution_count": null,
      "outputs": [
        {
          "output_type": "execute_result",
          "data": {
            "application/vnd.google.colaboratory.intrinsic+json": {
              "type": "string"
            },
            "text/plain": [
              "'Why don’t skeletons ever go trick or treating? Because they have nobody to go with.'"
            ]
          },
          "metadata": {
            "tags": []
          },
          "execution_count": 22
        }
      ]
    },
    {
      "cell_type": "markdown",
      "metadata": {
        "id": "_-8mOBpNSVFy"
      },
      "source": [
        "# archivos\n",
        " \n",
        "- open(str,str)\n",
        "-- 1. Nombre o ruta del archivo\n",
        "-- 2. dos caracteres\n",
        "-- modo de apertura del archivo (r,w,a append si y solo si el archivo existe, x append si y solo si el archivo no existe )\n",
        "-- formato del archivo (t o b)"
      ]
    },
    {
      "cell_type": "code",
      "metadata": {
        "id": "HQ7UDJazT1-D"
      },
      "source": [
        "archivo = open(\"saludo.txt\",\"wt\")\n",
        "archivo.write(\"Hola mundo\\nOla k ase\")\n",
        "archivo.close()"
      ],
      "execution_count": null,
      "outputs": []
    },
    {
      "cell_type": "code",
      "metadata": {
        "id": "5vhbLKIgUdZP",
        "outputId": "3c447e0d-1f36-4838-e1bd-fd01da7439e9",
        "colab": {
          "base_uri": "https://localhost:8080/",
          "height": 153
        }
      },
      "source": [
        "otro = open('./sample_data/anscombe.json','rt')\n",
        "datos = otro.read()\n",
        "#print (datos)\n",
        "otro.close()\n",
        " \n",
        "arch = open('frutas.txt','rt')\n",
        "data = 'ppp'\n",
        "while (data != '' ):\n",
        "    data = arch.readline()\n",
        "    print (data)\n",
        " \n",
        "arch.close()\n",
        "arch = open('frutas.txt','rt')\n",
        "list_frutas = arch.readline()\n",
        "print (list_frutas)\n",
        "arch.close()"
      ],
      "execution_count": 33,
      "outputs": [
        {
          "output_type": "stream",
          "text": [
            " manzana, pera, fresa, kiwi, aguacate \n",
            "\n",
            "limón, naranja\n",
            "\n",
            "sandía, papaya\n",
            "\n",
            " manzana, pera, fresa, kiwi, aguacate \n",
            "\n"
          ],
          "name": "stdout"
        }
      ]
    }
  ]
}