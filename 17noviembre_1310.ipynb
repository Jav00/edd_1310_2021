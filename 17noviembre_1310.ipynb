{
  "nbformat": 4,
  "nbformat_minor": 0,
  "metadata": {
    "colab": {
      "name": "17noviembre_1310.ipynb",
      "provenance": [],
      "authorship_tag": "ABX9TyMl9y6I2JY+hrxNP9IhwBnJ",
      "include_colab_link": true
    },
    "kernelspec": {
      "name": "python3",
      "display_name": "Python 3"
    }
  },
  "cells": [
    {
      "cell_type": "markdown",
      "metadata": {
        "id": "view-in-github",
        "colab_type": "text"
      },
      "source": [
        "<a href=\"https://colab.research.google.com/github/Jav00/edd_1310_2021/blob/master/17noviembre_1310.ipynb\" target=\"_parent\"><img src=\"https://colab.research.google.com/assets/colab-badge.svg\" alt=\"Open In Colab\"/></a>"
      ]
    },
    {
      "cell_type": "code",
      "metadata": {
        "colab": {
          "base_uri": "https://localhost:8080/"
        },
        "id": "_0tY4ykimr0T",
        "outputId": "5c53b12d-c8d9-4b9f-d79c-1287bbf3ae33"
      },
      "source": [
        "class Nodo:\n",
        "    def __init__(self,value,siguiente=None):\n",
        "        self.data = value\n",
        "        self.siguiente=siguiente\n",
        "class LinkedList:\n",
        "    def __init__(self):\n",
        "        self.__head = None\n",
        " \n",
        "    def is_empty(self):   #     Retorna un True si la lista esta vacia\n",
        "        return self.__head == None\n",
        " \n",
        "    def append(self,value): #   Agregear por el final\n",
        "        nuevo = Nodo(value)\n",
        "        if self.__head == None:\n",
        "            self.__head = nuevo\n",
        "        else:\n",
        "            curr_node = self.__head\n",
        "            while curr_node.siguiente != None:\n",
        "                curr_node = curr_node.siguiente\n",
        "            curr_node.siguiente = nuevo\n",
        " \n",
        "    def transversal(self): #    imprimir los nodos\n",
        "        curr_node = self.__head\n",
        "        while curr_node != None:\n",
        "            print(f\"{curr_node.data} --> \",end=\"\")\n",
        "            curr_node = curr_node.siguiente\n",
        "        print(\"None\")\n",
        "\"\"\"\n",
        "    def remove(self):\n",
        "        curr_node = self.__head\n",
        "        while curr_node.data != valor and curr_node.siguiente != None:\n",
        "            curr_node = curr_node.siguiente\n",
        "            if curr_node.data == value:\n",
        "                \n",
        "\"\"\"        \n",
        "l = LinkedList()\n",
        " \n",
        "print(f\"Lista vacia? {l.is_empty()}\")\n",
        "l.append(10)\n",
        "l.append(5)\n",
        "l.append(6)\n",
        "l.append(20)\n",
        "print(f\"Lista vacia {l.is_empty()}\")\n",
        "l.transversal()"
      ],
      "execution_count": 9,
      "outputs": [
        {
          "output_type": "stream",
          "text": [
            "Lista vacia? True\n",
            "Lista vacia False\n",
            "10 --> 5 --> 6 --> 20 --> None\n"
          ],
          "name": "stdout"
        }
      ]
    }
  ]
}