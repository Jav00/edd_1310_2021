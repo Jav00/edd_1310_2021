{
  "nbformat": 4,
  "nbformat_minor": 0,
  "metadata": {
    "colab": {
      "name": "19Enero_1310.ipynb",
      "provenance": [],
      "authorship_tag": "ABX9TyPUh+peIkBEPqrB71pvz703",
      "include_colab_link": true
    },
    "kernelspec": {
      "name": "python3",
      "display_name": "Python 3"
    }
  },
  "cells": [
    {
      "cell_type": "markdown",
      "metadata": {
        "id": "view-in-github",
        "colab_type": "text"
      },
      "source": [
        "<a href=\"https://colab.research.google.com/github/Jav00/edd_1310_2021/blob/master/19Enero_1310.ipynb\" target=\"_parent\"><img src=\"https://colab.research.google.com/assets/colab-badge.svg\" alt=\"Open In Colab\"/></a>"
      ]
    },
    {
      "cell_type": "code",
      "metadata": {
        "id": "qewYrbnQAScK",
        "colab": {
          "base_uri": "https://localhost:8080/"
        },
        "outputId": "3559406b-3c37-4135-fde0-7eedde08c1f6"
      },
      "source": [
        "class nodoArbol:\r\n",
        "    def __init__(self, value , left = None , right = None):\r\n",
        "        self.data = value\r\n",
        "        self.left = left\r\n",
        "        self.right = right\r\n",
        "class BinarySearchTree:\r\n",
        "    def __init__( self):\r\n",
        "        self.__root = None\r\n",
        "    def insert(self, value ):\r\n",
        "        #Regla 1\r\n",
        "        if self.__root == None:\r\n",
        "            self.__root = nodoArbol(value, None, None)\r\n",
        "        #Regla 2\r\n",
        "        else:\r\n",
        "            self.__insert__(self.__root , value)\r\n",
        "    def __insert__(self, nodo , value):\r\n",
        "        if nodo.data == value:\r\n",
        "            print(\"El dato ya existe, no se ingresa nada\")\r\n",
        "        elif value < nodo.data:\r\n",
        "            #regla 1\r\n",
        "            if nodo.left == None:\r\n",
        "                nodo.left = nodoArbol(value)\r\n",
        "            #regla 2\r\n",
        "            else:\r\n",
        "                self.__insert__(nodo.left , value)\r\n",
        "        else:\r\n",
        "            if nodo.right == None:\r\n",
        "                nodo.right = nodoArbol(value)\r\n",
        "            else:\r\n",
        "                self.__insert__(nodo.right , value)\r\n",
        "    def __recorrido_in(self,nodo):\r\n",
        "        if nodo != None:\r\n",
        "            self.__recorrido_in(nodo.left)\r\n",
        "            print(nodo.data, end=\" , \")\r\n",
        "            self.__recorrido_in(nodo.right)\r\n",
        "    def transversal( self , format = \"inorden\"):\r\n",
        "        if format == \"inorden\":\r\n",
        "            self.__recorrido_in(self.__root)\r\n",
        "        elif format == \"preorden\":\r\n",
        "            print(\"Recorrido en pre\")\r\n",
        "        elif format == \"posorden\":\r\n",
        "            print(\"Posorden\")\r\n",
        "        else:\r\n",
        "            print(\"Error, ese formato no existe\")\r\n",
        "        print(\"\")\r\n",
        "            \r\n",
        "        \r\n",
        "abb = BinarySearchTree()\r\n",
        "abb.insert(50)\r\n",
        "abb.insert(30)\r\n",
        "abb.insert(60)\r\n",
        "abb.insert(35)\r\n",
        "abb.insert(89)\r\n",
        "abb.transversal()"
      ],
      "execution_count": null,
      "outputs": [
        {
          "output_type": "stream",
          "text": [
            "30 , 35 , 50 , 60 , 89 , \n"
          ],
          "name": "stdout"
        }
      ]
    }
  ]
}