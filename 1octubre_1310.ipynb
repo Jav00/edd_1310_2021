{
  "nbformat": 4,
  "nbformat_minor": 0,
  "metadata": {
    "colab": {
      "name": "1octubre_1310.ipynb",
      "provenance": [],
      "collapsed_sections": [],
      "authorship_tag": "ABX9TyMxoFoZ29jpF3svecs3dLJw",
      "include_colab_link": true
    },
    "kernelspec": {
      "name": "python3",
      "display_name": "Python 3"
    }
  },
  "cells": [
    {
      "cell_type": "markdown",
      "metadata": {
        "id": "view-in-github",
        "colab_type": "text"
      },
      "source": [
        "<a href=\"https://colab.research.google.com/github/Jav00/edd_1310_2021/blob/master/1octubre_1310.ipynb\" target=\"_parent\"><img src=\"https://colab.research.google.com/assets/colab-badge.svg\" alt=\"Open In Colab\"/></a>"
      ]
    },
    {
      "cell_type": "code",
      "metadata": {
        "id": "H3tYAkfi7KDX"
      },
      "source": [
        ""
      ],
      "execution_count": null,
      "outputs": []
    },
    {
      "cell_type": "markdown",
      "metadata": {
        "id": "_xj91VEH7tiV"
      },
      "source": [
        "## Intro Python 3\n",
        "### Variables tipo dinamico\n",
        "Tipo dinamico.\n",
        " \n",
        "'Escuela = \"Fes aragon\"'"
      ]
    },
    {
      "cell_type": "code",
      "metadata": {
        "id": "HLE67wcj8S11",
        "outputId": "da2a3b1b-fd83-4b68-a58f-2f6ee6cd3916",
        "colab": {
          "base_uri": "https://localhost:8080/",
          "height": 137
        }
      },
      "source": [
        "escuela = \"FES Aragon\"\n",
        "print(escuela)\n",
        "print(\"____\")\n",
        "edad = 13\n",
        "estatura = 1.67\n",
        "fumador = True\n",
        "frase = \"\"\"\n",
        "esta es una frase\n",
        "de multiple\n",
        "linea\n",
        "\"\"\"\n",
        "print(frase)\n",
        "nombre = 'Javier'\n",
        "nombre_completo = \"javier segundo zepahua\""
      ],
      "execution_count": null,
      "outputs": [
        {
          "output_type": "stream",
          "text": [
            "FES Aragon\n",
            "____\n",
            "\n",
            "esta es una frase\n",
            "de multiple\n",
            "linea\n",
            "\n"
          ],
          "name": "stdout"
        }
      ]
    },
    {
      "cell_type": "markdown",
      "metadata": {
        "id": "jgY9S-6w91Pi"
      },
      "source": [
        "El print lo puedes usar con comas,\n",
        " \n",
        "signo + \n",
        " \n",
        "format() \n",
        " \n",
        "con el operador f\"\""
      ]
    },
    {
      "cell_type": "code",
      "metadata": {
        "id": "tNQ3qU2V-cW2",
        "outputId": "3a007f77-663d-4257-9a56-5567b1d335e7",
        "colab": {
          "base_uri": "https://localhost:8080/",
          "height": 34
        }
      },
      "source": [
        " \n",
        "# Concatena \n",
        "print(nombre,edad)"
      ],
      "execution_count": null,
      "outputs": [
        {
          "output_type": "stream",
          "text": [
            "Javier 13\n"
          ],
          "name": "stdout"
        }
      ]
    },
    {
      "cell_type": "code",
      "metadata": {
        "id": "XSzMWSJa_LJl",
        "outputId": "7132edcf-1e40-440b-c50b-da027367c5f5",
        "colab": {
          "base_uri": "https://localhost:8080/",
          "height": 51
        }
      },
      "source": [
        " \n",
        "# Usar en snake case\n",
        "print(nombre+str(edad))\n",
        "print(nombre+nombre_completo)"
      ],
      "execution_count": null,
      "outputs": [
        {
          "output_type": "stream",
          "text": [
            "Javier13\n",
            "Javierjavier segundo zepahua\n"
          ],
          "name": "stdout"
        }
      ]
    },
    {
      "cell_type": "code",
      "metadata": {
        "id": "qasKxzbeARvz"
      },
      "source": [
        "# Con formato -> su nombre es Javier y su edad es\n",
        "print(\"Su nombre es\",nombre,\"y su edad es\", edad,\"años.\")\n",
        "print(\"Su nombre es {0} y su edad es {1} años.\".format(nombre,edad))"
      ],
      "execution_count": null,
      "outputs": []
    },
    {
      "cell_type": "code",
      "metadata": {
        "id": "Upsv5aXHBx7J",
        "outputId": "d915ecca-1078-43cd-d647-4e1c159b9958",
        "colab": {
          "base_uri": "https://localhost:8080/",
          "height": 54
        }
      },
      "source": [
        "# Con formato con el operador f\"\"\n",
        "print(f\"Su nombre es {nombre} y su edad es {edad} años.\")"
      ],
      "execution_count": null,
      "outputs": [
        {
          "output_type": "stream",
          "text": [
            "Su nombre es Javier y su edad es 13 años.\n"
          ],
          "name": "stdout"
        }
      ]
    },
    {
      "cell_type": "markdown",
      "metadata": {
        "id": "8X0M60IRC2bO"
      },
      "source": [
        " # caracter de escape.\n",
        " \n",
        "\\n salto de linea\n",
        " \n",
        "\\t tabulador\n",
        " \n",
        "\\a beep\n",
        " \n",
        "\\\\\" imprimir comilla doble\n",
        " \n",
        "\\\\' imprimir comilla simple"
      ]
    },
    {
      "cell_type": "code",
      "metadata": {
        "id": "4KgkR1ZuDcv_",
        "outputId": "4eb93e2b-7030-4018-f867-faf5fa50bbd6",
        "colab": {
          "base_uri": "https://localhost:8080/",
          "height": 51
        }
      },
      "source": [
        " \"\"\"\n",
        "esta es una comentario\n",
        "de multiple\n",
        "linea\n",
        "\"\"\"\n",
        "print(f\"\\tmi nombre es\\n\\t\\t{nombre}\")"
      ],
      "execution_count": null,
      "outputs": [
        {
          "output_type": "stream",
          "text": [
            "\tmi nombre es\n",
            "\t\tJavier\n"
          ],
          "name": "stdout"
        }
      ]
    },
    {
      "cell_type": "markdown",
      "metadata": {
        "id": "iU_H_usOENK9"
      },
      "source": [
        " # Ayuda de tipo de datos en Python\n",
        "***\n",
        "dir() help()"
      ]
    },
    {
      "cell_type": "code",
      "metadata": {
        "id": "-EejJNjREpeY"
      },
      "source": [
        "# str, int, float, bool, ... , list, dic\n",
        "help(str)"
      ],
      "execution_count": null,
      "outputs": []
    },
    {
      "cell_type": "code",
      "metadata": {
        "id": "wvCOMI7NFYD9",
        "outputId": "13384615-a552-490b-c82c-dc0d6cf84669",
        "colab": {
          "base_uri": "https://localhost:8080/",
          "height": 71
        }
      },
      "source": [
        "print(nombre_completo.capitalize() )\n",
        "print(nombre_completo.upper() ,end=\"-----\")\n",
        "print(nombre_completo.title() )"
      ],
      "execution_count": null,
      "outputs": [
        {
          "output_type": "stream",
          "text": [
            "Javier segundo zepahua\n",
            "JAVIER SEGUNDO ZEPAHUA-----Javier Segundo Zepahua\n"
          ],
          "name": "stdout"
        }
      ]
    },
    {
      "cell_type": "code",
      "metadata": {
        "id": "siGEOeKiGGGx",
        "outputId": "0c600d60-a04a-4dbd-eca1-9eefbf36cee2",
        "colab": {
          "base_uri": "https://localhost:8080/",
          "height": 243
        }
      },
      "source": [
        "help(print)"
      ],
      "execution_count": null,
      "outputs": [
        {
          "output_type": "stream",
          "text": [
            "Help on built-in function print in module builtins:\n",
            "\n",
            "print(...)\n",
            "    print(value, ..., sep=' ', end='\\n', file=sys.stdout, flush=False)\n",
            "    \n",
            "    Prints the values to a stream, or to sys.stdout by default.\n",
            "    Optional keyword arguments:\n",
            "    file:  a file-like object (stream); defaults to the current sys.stdout.\n",
            "    sep:   string inserted between values, default a space.\n",
            "    end:   string appended after the last value, default a newline.\n",
            "    flush: whether to forcibly flush the stream.\n",
            "\n"
          ],
          "name": "stdout"
        }
      ]
    },
    {
      "cell_type": "markdown",
      "metadata": {
        "id": "nWR2FPs5HC16"
      },
      "source": [
        "## Clase String\n",
        " \n",
        "Es manejada como un arreglo (c o Java) o lista (Python)\n",
        "^^"
      ]
    },
    {
      "cell_type": "code",
      "metadata": {
        "id": "lc1KE0C4HHg-",
        "outputId": "381444d2-6319-452d-fda9-0c07f20b2bc6",
        "colab": {
          "base_uri": "https://localhost:8080/",
          "height": 34
        }
      },
      "source": [
        "telefono = \"Huawei mate 30 pro\"\n",
        "print(telefono[5])"
      ],
      "execution_count": null,
      "outputs": [
        {
          "output_type": "stream",
          "text": [
            "i\n"
          ],
          "name": "stdout"
        }
      ]
    },
    {
      "cell_type": "markdown",
      "metadata": {
        "id": "vijBaSKSITYo"
      },
      "source": [
        "## Slicing (rebanado)\n",
        "***\n",
        "[Ini:stop:incremento]\n",
        " \n",
        "Nota: el stop no se include"
      ]
    },
    {
      "cell_type": "code",
      "metadata": {
        "id": "82ypaZTXI0vV"
      },
      "source": [
        "print(telefono[7:11:1])\n",
        "# El inicio y el incremento son opcionales\n",
        "print(telefono[:11:])\n",
        "# El valor por defecto en stop es len(str)\n",
        "print(telefono[::])\n",
        "# El incremento negativo \n",
        "print(telefono[::-1])\n",
        "print(telefono[-3::1])"
      ],
      "execution_count": null,
      "outputs": []
    },
    {
      "cell_type": "markdown",
      "metadata": {
        "id": "qtFmxQ--NNgr"
      },
      "source": [
        "## Métodos de String (str)\n",
        "***\n",
        "Existen métodos muy útiles en esta clase."
      ]
    },
    {
      "cell_type": "code",
      "metadata": {
        "id": "2bPHKtNPNfBs",
        "outputId": "73b5bdee-a2e1-4819-c7ea-8a801f64ea72",
        "colab": {
          "base_uri": "https://localhost:8080/",
          "height": 328
        }
      },
      "source": [
        "facultad = \"    facultad de estudios superiores aragón.    \\n\"\n",
        "print(facultad.count(\"f\"))# Cuenta el numero de elementos de la cadena\n",
        "print(facultad.find(\"s\"))# Posición\n",
        "print(facultad.index(\"f\"))# Buscar\n",
        "print(facultad.strip())\n",
        "tamaño=len(facultad)\n",
        "print(len(facultad))\n",
        " \n",
        "print(f\"Tamaño de la cadena es {tamaño}\")\n",
        " \n",
        "print(facultad.strip().split(\" \"))\n",
        " \n",
        "print(\"--------------\")\n",
        "# Copiar cadena\n",
        " \n",
        "otra_cadena=facultad\n",
        "print(otra_cadena)\n",
        "otra_cadena=\"FES Aragon\"\n",
        "print(facultad)\n",
        "print(otra_cadena)\n",
        " \n",
        "# Copiar listas\n",
        " \n",
        "colores = [\"rojo\",\"verde\"]\n",
        "otra = colores.copy()\n",
        "print(colores)\n",
        "print(otra)\n",
        "otra.append(\"rosa\")\n",
        "print(colores)\n",
        "print(otra)"
      ],
      "execution_count": null,
      "outputs": [
        {
          "output_type": "stream",
          "text": [
            "1\n",
            "17\n",
            "4\n",
            "facultad de estudios superiores aragón.\n",
            "48\n",
            "Tamaño de la cadena es 48\n",
            "['facultad', 'de', 'estudios', 'superiores', 'aragón.']\n",
            "--------------\n",
            "    facultad de estudios superiores aragón.    \n",
            "\n",
            "    facultad de estudios superiores aragón.    \n",
            "\n",
            "FES Aragon\n",
            "['rojo', 'verde']\n",
            "['rojo', 'verde']\n",
            "['rojo', 'verde']\n",
            "['rojo', 'verde', 'rosa']\n"
          ],
          "name": "stdout"
        }
      ]
    }
  ]
}