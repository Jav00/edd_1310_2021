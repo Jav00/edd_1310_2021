{
  "nbformat": 4,
  "nbformat_minor": 0,
  "metadata": {
    "colab": {
      "name": "20octubre_1310.ipynb",
      "provenance": [],
      "collapsed_sections": [
        "8bd0nhV52pO7",
        "J8WoYZg87-Fr",
        "_vScNAdl_QWy"
      ],
      "authorship_tag": "ABX9TyNJiZJ46R/SpcNJG6+YAOyF",
      "include_colab_link": true
    },
    "kernelspec": {
      "name": "python3",
      "display_name": "Python 3"
    }
  },
  "cells": [
    {
      "cell_type": "markdown",
      "metadata": {
        "id": "view-in-github",
        "colab_type": "text"
      },
      "source": [
        "<a href=\"https://colab.research.google.com/github/Jav00/edd_1310_2021/blob/master/20octubre_1310.ipynb\" target=\"_parent\"><img src=\"https://colab.research.google.com/assets/colab-badge.svg\" alt=\"Open In Colab\"/></a>"
      ]
    },
    {
      "cell_type": "code",
      "metadata": {
        "id": "GfzRqkX3y72e",
        "outputId": "00e62aec-d122-40fe-ba5b-baa51be7b8c3",
        "colab": {
          "base_uri": "https://localhost:8080/",
          "height": 273
        }
      },
      "source": [
        "archivo = open('numeros.txt','rt')\n",
        "for línea in archivo.readlines():\n",
        "    for trunc in línea.split(','):\n",
        "        print(int(trunc.strip()))"
      ],
      "execution_count": 8,
      "outputs": [
        {
          "output_type": "stream",
          "text": [
            "23\n",
            "23\n",
            "44\n",
            "55\n",
            "5\n",
            "44\n",
            "4\n",
            "5\n",
            "7\n",
            "7\n",
            "6\n",
            "5\n",
            "4\n",
            "2\n",
            "1\n"
          ],
          "name": "stdout"
        }
      ]
    },
    {
      "cell_type": "markdown",
      "metadata": {
        "id": "8bd0nhV52pO7"
      },
      "source": [
        "# sintaxis del for en Python\n",
        "dos versiones de for \n",
        "- range\n",
        "- in iterator"
      ]
    },
    {
      "cell_type": "code",
      "metadata": {
        "id": "brTAnPnu23xd",
        "outputId": "fde85a23-6b99-44e6-d126-cd73968b927b",
        "colab": {
          "base_uri": "https://localhost:8080/",
          "height": 188
        }
      },
      "source": [
        "print (range (0,10,1))\n",
        "r=range(0,10,2)\n",
        "for x in r:\n",
        "    print(x)\n",
        " \n",
        "colores =['rojo','rosa','azul','fucsia']\n",
        " \n",
        "for indice in range (0,len(colores),1): #For (indice=0; indice<4; indice++)\n",
        "    #print (colores [indice])\n",
        "    colores [indice] = colores [indice].upper()\n",
        " \n",
        "#for sobre un iterator\n",
        " \n",
        "for col in colores:\n",
        "    print (col)"
      ],
      "execution_count": 16,
      "outputs": [
        {
          "output_type": "stream",
          "text": [
            "range(0, 10)\n",
            "0\n",
            "2\n",
            "4\n",
            "6\n",
            "8\n",
            "ROJO\n",
            "ROSA\n",
            "AZUL\n",
            "FUCSIA\n"
          ],
          "name": "stdout"
        }
      ]
    },
    {
      "cell_type": "markdown",
      "metadata": {
        "id": "J8WoYZg87-Fr"
      },
      "source": [
        "# Generadores \n",
        "[ 0 valor for x in range(10) ]\n",
        " \n",
        "[[0,0,0],\n",
        "[0,0,0],\n",
        "[0,0,0]]\n",
        "\n",
        "3 x 3"
      ]
    },
    {
      "cell_type": "code",
      "metadata": {
        "id": "uJlFLd8r8Vny",
        "outputId": "59a61d2b-5be5-4ac6-82d3-7e6e2ee0a887",
        "colab": {
          "base_uri": "https://localhost:8080/",
          "height": 34
        }
      },
      "source": [
        "lista= [[0 for x in range(3)] for x in range(3)  ]\n",
        "print (lista)"
      ],
      "execution_count": 28,
      "outputs": [
        {
          "output_type": "stream",
          "text": [
            "[[0, 0, 0], [0, 0, 0], [0, 0, 0]]\n"
          ],
          "name": "stdout"
        }
      ]
    },
    {
      "cell_type": "code",
      "metadata": {
        "id": "8NQtS5b5-Ofy",
        "outputId": "d5686ebe-915f-4bab-e8d7-ee00885b7472",
        "colab": {
          "base_uri": "https://localhost:8080/",
          "height": 34
        }
      },
      "source": [
        "lista = [[0,0,0] for x in range(3)]\n",
        "print (lista)"
      ],
      "execution_count": 29,
      "outputs": [
        {
          "output_type": "stream",
          "text": [
            "[[0, 0, 0], [0, 0, 0], [0, 0, 0]]\n"
          ],
          "name": "stdout"
        }
      ]
    },
    {
      "cell_type": "code",
      "metadata": {
        "id": "DMCkkFfe-iEW",
        "outputId": "4063a525-30d4-49ff-cf60-a3afb70cce7a",
        "colab": {
          "base_uri": "https://localhost:8080/",
          "height": 34
        }
      },
      "source": [
        "ren=3\n",
        "col=3\n",
        "lista = [[0 for x in range(col)] for x in range(ren)]\n",
        "print (lista)"
      ],
      "execution_count": 32,
      "outputs": [
        {
          "output_type": "stream",
          "text": [
            "[[0, 0, 0], [0, 0, 0], [0, 0, 0]]\n"
          ],
          "name": "stdout"
        }
      ]
    },
    {
      "cell_type": "markdown",
      "metadata": {
        "id": "_vScNAdl_QWy"
      },
      "source": [
        "#POO en Python\n",
        "- clase\n",
        "-  creación de objetos\n",
        "- constructor\n",
        "- encapsulamiento\n",
        "- métodos\n",
        "- atributos\n",
        "- herencia"
      ]
    },
    {
      "cell_type": "code",
      "metadata": {
        "id": "IO0kDkxL_nRP",
        "outputId": "e9298a3a-bc9a-42a0-ccaf-82b52fd80072",
        "colab": {
          "base_uri": "https://localhost:8080/",
          "height": 34
        }
      },
      "source": [
        "class Computadora: # Emula POO\n",
        "    def __init__(self,m,p):\n",
        "        self.__marca=m\n",
        "        self.__procesador=p\n",
        "        \n",
        "    def to_string(self):\n",
        "        return \"Marca:\"+self.__marca+\" Procesador:\"+self.__procesador\n",
        " \n",
        "mi_pc = Computadora(\"Toshiba\",\"Intel i7\")\n",
        "mi_pc.marca=\"HP \"\n",
        "print (mi_pc.to_string())"
      ],
      "execution_count": 47,
      "outputs": [
        {
          "output_type": "stream",
          "text": [
            "Marca:Toshiba Procesador:Intel i7\n"
          ],
          "name": "stdout"
        }
      ]
    }
  ]
}