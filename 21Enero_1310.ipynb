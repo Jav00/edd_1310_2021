{
  "nbformat": 4,
  "nbformat_minor": 0,
  "metadata": {
    "colab": {
      "name": "21Enero_1310.ipynb",
      "provenance": [],
      "authorship_tag": "ABX9TyPkn7tpS0BdbcS1UNDkRqNC",
      "include_colab_link": true
    },
    "kernelspec": {
      "name": "python3",
      "display_name": "Python 3"
    }
  },
  "cells": [
    {
      "cell_type": "markdown",
      "metadata": {
        "id": "view-in-github",
        "colab_type": "text"
      },
      "source": [
        "<a href=\"https://colab.research.google.com/github/Jav00/edd_1310_2021/blob/master/21Enero_1310.ipynb\" target=\"_parent\"><img src=\"https://colab.research.google.com/assets/colab-badge.svg\" alt=\"Open In Colab\"/></a>"
      ]
    },
    {
      "cell_type": "code",
      "metadata": {
        "colab": {
          "base_uri": "https://localhost:8080/"
        },
        "id": "PU7y9kHBUEz9",
        "outputId": "295e6974-f9f8-4bcb-e561-d68f9f1d2981"
      },
      "source": [
        "class nodoArbol:\r\n",
        "    def __init__(self, value , left = None , right = None):\r\n",
        "        self.data = value\r\n",
        "        self.left = left\r\n",
        "        self.right = right\r\n",
        "class BinarySearchTree:\r\n",
        "    def __init__( self):\r\n",
        "        self.__root = None\r\n",
        "    def insert(self, value ):\r\n",
        "        #Regla 1\r\n",
        "        if self.__root == None:\r\n",
        "            self.__root = nodoArbol(value, None, None)\r\n",
        "        #Regla 2\r\n",
        "        else:\r\n",
        "            self.__insert__(self.__root , value)\r\n",
        "    def __insert__(self, nodo , value):\r\n",
        "        if nodo.data == value:\r\n",
        "            print(\"El dato ya existe, no se ingresa nada\")\r\n",
        "        elif value < nodo.data:\r\n",
        "            #regla 1\r\n",
        "            if nodo.left == None:\r\n",
        "                nodo.left = nodoArbol(value)\r\n",
        "            #regla 2\r\n",
        "            else:\r\n",
        "                self.__insert__(nodo.left , value)\r\n",
        "        else:\r\n",
        "            if nodo.right == None:\r\n",
        "                nodo.right = nodoArbol(value)\r\n",
        "            else:\r\n",
        "                self.__insert__(nodo.right , value)\r\n",
        "    def __recorrido_in(self,nodo):\r\n",
        "        if nodo != None:\r\n",
        "            self.__recorrido_in(nodo.left)\r\n",
        "            print(nodo.data, end=\" , \")\r\n",
        "            self.__recorrido_in(nodo.right)\r\n",
        "    def __recorrido_pos(self , nodo):\r\n",
        "        if nodo:\r\n",
        "            self.__recorrido_pos(nodo.left)\r\n",
        "            self.__recorrido_pos(nodo.right)\r\n",
        "            print(nodo.data, end=\", \")\r\n",
        "    def __recorrido_pre(self , nodo):\r\n",
        "        if nodo:\r\n",
        "            print(nodo.data, end=\", \")\r\n",
        "            self.__recorrido_pos(nodo.left)\r\n",
        "            self.__recorrido_pos(nodo.right)\r\n",
        "            \r\n",
        "    \r\n",
        "    def transversal( self , format = \"inorden\"):\r\n",
        "        if format == \"inorden\":\r\n",
        "            self.__recorrido_in(self.__root)\r\n",
        "        elif format == \"preorden\":\r\n",
        "            print(\"Recorrido en pre\")\r\n",
        "            self.__recorrido_pre(self.__root)\r\n",
        "        elif format == \"posorden\":\r\n",
        "            print(\"Posorden\")\r\n",
        "            self.__recorrido_pos(self.__root)\r\n",
        "        else:\r\n",
        "            print(\"Error, ese formato no existe\")\r\n",
        "        print(\"\")\r\n",
        "    def search(self, value):\r\n",
        "        if self.__root == None:\r\n",
        "            return None\r\n",
        "        else:\r\n",
        "            return self.__search( self.__root, value)\r\n",
        "            \r\n",
        "    def __search(self, nodo, value):\r\n",
        "        if nodo == None: #Arbol vacio\r\n",
        "            return None\r\n",
        "        elif nodo.data == value:\r\n",
        "            print (\"Encontrado\")\r\n",
        "            return nodo\r\n",
        "        elif value < nodo.data:\r\n",
        "            return self.__search(nodo.left , value)\r\n",
        "        else:\r\n",
        "            return self.__search(nodo.right , value)\r\n",
        "    def remove(self , value):\r\n",
        "        encontrado = self.search(value)\r\n",
        "        #Caso1\r\n",
        "        if encontrado.left == None and encontrado.right == None:\r\n",
        "            encontrado = None\r\n",
        "        #Caso2\r\n",
        "        elif (encontrado.left != None and encontrado.right == None) or (encontrado.left == None and encontrado.right != None):\r\n",
        "            print (f\"A eliminar :{encontrado}\")\r\n",
        "            \r\n",
        "abb = BinarySearchTree()\r\n",
        "abb.insert(50)\r\n",
        "abb.insert(30)\r\n",
        "abb.insert(60)\r\n",
        "abb.insert(35)\r\n",
        "abb.insert(89)\r\n",
        "abb.transversal()\r\n",
        "abb.transversal(\"preorden\")\r\n",
        "abb.transversal(\"posorden\")\r\n",
        "res = abb.search(35)\r\n",
        "print(f\"El resultado es {res.data}\")\r\n",
        "abb.remove(35)\r\n",
        "abb.transversal()"
      ],
      "execution_count": 1,
      "outputs": [
        {
          "output_type": "stream",
          "text": [
            "30 , 35 , 50 , 60 , 89 , \n",
            "Recorrido en pre\n",
            "50, 35, 30, 89, 60, \n",
            "Posorden\n",
            "35, 30, 89, 60, 50, \n",
            "Encontrado\n",
            "El resultado es 35\n",
            "Encontrado\n",
            "30 , 35 , 50 , 60 , 89 , \n"
          ],
          "name": "stdout"
        }
      ]
    }
  ]
}