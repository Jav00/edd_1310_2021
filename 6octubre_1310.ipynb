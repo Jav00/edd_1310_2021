{
  "nbformat": 4,
  "nbformat_minor": 0,
  "metadata": {
    "colab": {
      "name": "6octubre_1310.ipynb",
      "provenance": [],
      "collapsed_sections": [],
      "authorship_tag": "ABX9TyN1dBWibswVH6l0F2ocXgqi",
      "include_colab_link": true
    },
    "kernelspec": {
      "name": "python3",
      "display_name": "Python 3"
    }
  },
  "cells": [
    {
      "cell_type": "markdown",
      "metadata": {
        "id": "view-in-github",
        "colab_type": "text"
      },
      "source": [
        "<a href=\"https://colab.research.google.com/github/Jav00/edd_1310_2021/blob/master/6octubre_1310.ipynb\" target=\"_parent\"><img src=\"https://colab.research.google.com/assets/colab-badge.svg\" alt=\"Open In Colab\"/></a>"
      ]
    },
    {
      "cell_type": "code",
      "metadata": {
        "id": "j-VrwozctjNq",
        "outputId": "455e1f93-51c0-4631-9330-6d4b6748e88b",
        "colab": {
          "base_uri": "https://localhost:8080/",
          "height": 361
        }
      },
      "source": [
        " \n",
        "#String continuación\n",
        " \n",
        "numeros_txt = \"    1,2,3,4  ,5  ,35  ,15  ,12\"\n",
        "print(numeros_txt)\n",
        "numeros_txt = numeros_txt.lstrip().split(',')\n",
        "print(numeros_txt)\n",
        " \n",
        "for j in range(len(numeros_txt)):\n",
        "  numeros_txt[ j ] = int(numeros_txt[j].strip())\n",
        "  \n",
        "print(numeros_txt)\n",
        " \n",
        "#Funcion range()\n",
        " \n",
        "#range(inicio,stop, incremento)\n",
        " \n",
        "print(range(1,10,3))\n",
        "rango=range(1,10,2)\n",
        " \n",
        "for x in rango:\n",
        "    print(x)\n",
        " \n",
        "rango=range(10)\n",
        "for x in rango:\n",
        "    print(x)"
      ],
      "execution_count": null,
      "outputs": [
        {
          "output_type": "stream",
          "text": [
            "    1,2,3,4  ,5  ,35  ,15  ,12\n",
            "['1', '2', '3', '4  ', '5  ', '35  ', '15  ', '12']\n",
            "[1, 2, 3, 4, 5, 35, 15, 12]\n",
            "range(1, 10, 3)\n",
            "1\n",
            "3\n",
            "5\n",
            "7\n",
            "9\n",
            "0\n",
            "1\n",
            "2\n",
            "3\n",
            "4\n",
            "5\n",
            "6\n",
            "7\n",
            "8\n",
            "9\n"
          ],
          "name": "stdout"
        }
      ]
    },
    {
      "cell_type": "markdown",
      "metadata": {
        "id": "iSQDdNbNxGEV"
      },
      "source": [
        "#Listas\n",
        "- mutantes \n",
        "- declaran con []\n",
        "- sector [int]\n",
        "- pueden ser de cualquier tipo y mezclado\n",
        " \n",
        "#tuplas \n",
        "- no mutables\n",
        "- se declaran con paréntesis ()\n",
        "- selector [int] \n",
        " \n",
        "#diccionarios \n",
        " \n",
        "- son mutables\n",
        "- son conjuntos de llave:valor\n",
        "- equivalentes a los objetos JSON de JavaScritp\n",
        " \n",
        "#conjuntos\n",
        "- representación de la teoría de conjuntos"
      ]
    },
    {
      "cell_type": "code",
      "metadata": {
        "id": "TOu4f6JUyOWn",
        "outputId": "af4a2819-6656-4fab-a7b8-0aa6c47cddf8",
        "colab": {
          "base_uri": "https://localhost:8080/",
          "height": 156
        }
      },
      "source": [
        "# Listas\n",
        "frutas = [\"Pera\",\"Manzana\",\"Fresa\",\"Kiwi\",\"Naranja\"]\n",
        "print(frutas)\n",
        "cosas = [\"cuaderno\",2,3.1416,True,False,[\"Rojo\",\"Azul\"]]\n",
        "print(cosas)\n",
        "frutas[2]=\"Fresa\"\n",
        "print (frutas)\n",
        "# agregar a una lista\n",
        "frutas.append(\"Aguacate\") # Agrega al final\n",
        "print(frutas)\n",
        "frutas.insert(2,\"Sandia\") # Agrega en una posición\n",
        "print(frutas)\n",
        " \n",
        "# Concatenar listas\n",
        "fecha = [\"06\",\"10\",\"20\"] # 06/10/2020\n",
        "print(fecha)\n",
        "fecha_str=\"/\".join(fecha)\n",
        "print(fecha_str)"
      ],
      "execution_count": null,
      "outputs": [
        {
          "output_type": "stream",
          "text": [
            "['Pera', 'Manzana', 'Fresa', 'Kiwi', 'Naranja']\n",
            "['cuaderno', 2, 3.1416, True, False, ['Rojo', 'Azul']]\n",
            "['Pera', 'Manzana', 'Fresa', 'Kiwi', 'Naranja']\n",
            "['Pera', 'Manzana', 'Fresa', 'Kiwi', 'Naranja', 'Aguacate']\n",
            "['Pera', 'Manzana', 'Sandia', 'Fresa', 'Kiwi', 'Naranja', 'Aguacate']\n",
            "['06', '10', '20']\n",
            "06/10/20\n"
          ],
          "name": "stdout"
        }
      ]
    },
    {
      "cell_type": "code",
      "metadata": {
        "id": "2IFkCAXh3T4z",
        "outputId": "72d8bd3a-66f7-44cb-e5a3-6dbd1a10a132",
        "colab": {
          "base_uri": "https://localhost:8080/",
          "height": 208
        }
      },
      "source": [
        " # Eliminar listas\n",
        "cosas = [\"cuaderno\",2,3.1416,True,False,[\"Rojo\",\"Azul\"]]\n",
        "print(cosas)\n",
        "cosas.append(\"Libro\")\n",
        "cosas.append(\"Lapiz\")\n",
        "print(cosas)\n",
        "algo = cosas.pop()\n",
        "print(cosas)\n",
        "print(algo)\n",
        " \n",
        "# Remover \n",
        "algo = cosas.pop(2)\n",
        "print(cosas)\n",
        "print(algo)\n",
        "cosas.remove(2)\n",
        "print(cosas)\n",
        " \n",
        "# vaciar una lista\n",
        "# cosas.clear()\n",
        "print(cosas)\n",
        " \n",
        "# ordenar\n",
        "print(frutas)\n",
        "frutas.sort()\n",
        "print(frutas)"
      ],
      "execution_count": null,
      "outputs": [
        {
          "output_type": "stream",
          "text": [
            "['cuaderno', 2, 3.1416, True, False, ['Rojo', 'Azul']]\n",
            "['cuaderno', 2, 3.1416, True, False, ['Rojo', 'Azul'], 'Libro', 'Lapiz']\n",
            "['cuaderno', 2, 3.1416, True, False, ['Rojo', 'Azul'], 'Libro']\n",
            "Lapiz\n",
            "['cuaderno', 2, True, False, ['Rojo', 'Azul'], 'Libro']\n",
            "3.1416\n",
            "['cuaderno', True, False, ['Rojo', 'Azul'], 'Libro']\n",
            "['cuaderno', True, False, ['Rojo', 'Azul'], 'Libro']\n",
            "['Aguacate', 'Fresa', 'Kiwi', 'Manzana', 'Naranja', 'Pera', 'Sandia']\n",
            "['Aguacate', 'Fresa', 'Kiwi', 'Manzana', 'Naranja', 'Pera', 'Sandia']\n"
          ],
          "name": "stdout"
        }
      ]
    },
    {
      "cell_type": "code",
      "metadata": {
        "id": "eG-Qa8mc7FQz",
        "outputId": "6ab6047f-b239-4be8-aaf3-af39cbf9c8f5",
        "colab": {
          "base_uri": "https://localhost:8080/",
          "height": 136
        }
      },
      "source": [
        " # Slicing\n",
        "cosas = [\"cuaderno\" , 2 , 3.1416 , True , False ,[\"Rojo\",\"Azul\"]]\n",
        "print(cosas[3:5:1])\n",
        "print(cosas)\n",
        "print(cosas[0][3:5:1])\n",
        " \n",
        "números = [0,1,2,3,4,5,6,7,8,9,10,11,12,13,14,15]\n",
        "print(números[8:13:])\n",
        " \n",
        "# Sustituir rebanadas -2,-2 -> [0,1,2,3,4,5,6,7,-2,-2,13,14,15]\n",
        "\n",
        "print(números) \n",
        "números[8:13:] = [-2,-2]\n",
        "print(números)\n",
        " \n",
        "# Preguntar por una existencia\n",
        "print(100 in números)"
      ],
      "execution_count": 101,
      "outputs": [
        {
          "output_type": "stream",
          "text": [
            "[True, False]\n",
            "['cuaderno', 2, 3.1416, True, False, ['Rojo', 'Azul']]\n",
            "de\n",
            "[8, 9, 10, 11, 12]\n",
            "[0, 1, 2, 3, 4, 5, 6, 7, 8, 9, 10, 11, 12, 13, 14, 15]\n",
            "[0, 1, 2, 3, 4, 5, 6, 7, -2, -2, 13, 14, 15]\n",
            "False\n"
          ],
          "name": "stdout"
        }
      ]
    },
    {
      "cell_type": "markdown",
      "metadata": {
        "id": "VXyseEHq-kTC"
      },
      "source": [
        "# Listas multi dimensión.\n",
        "Listas dentro de listas"
      ]
    },
    {
      "cell_type": "code",
      "metadata": {
        "id": "_2ne2mj_-vMQ",
        "outputId": "020b8a05-6fc3-4113-8bb6-d4a5cde4109a",
        "colab": {
          "base_uri": "https://localhost:8080/",
          "height": 208
        }
      },
      "source": [
        "computadoras = [\"HP\",\"Mac Book Pro 17\",\"Mate book\",\"Lenovo legion\"]\n",
        "OSS = [\"Windows 10\",\"Linux\",\"Android\",\"iOS\"]\n",
        " \n",
        "computo = [computadoras, OSS]\n",
        "print (computo [0])\n",
        "print (computo [1])\n",
        "print (computo [0][2])\n",
        "print (computo [0][2][0:5])\n",
        "print (computo [0][3][5: :-1])\n",
        "print (computo [0][3][-8::-1])\n",
        "print(\"Linux\" in computo[1])\n",
        " \n",
        "dbms=[ [\"Mysql\",\"Open Source\",False],[\"MS SQL Server\",\"de paga\",True] ] #Cuenta el espacio\n",
        "computo.append(dbms)\n",
        "print(computo)\n",
        "print (computo[2][0][0])\n",
        "print (computo [2][1][1])"
      ],
      "execution_count": null,
      "outputs": [
        {
          "output_type": "stream",
          "text": [
            "['HP', 'Mac Book Pro 17', 'Mate book', 'Lenovo legion']\n",
            "['Windows 10', 'Linux', 'Android', 'iOS']\n",
            "Mate book\n",
            "Mate \n",
            "ovoneL\n",
            "ovoneL\n",
            "True\n",
            "[['HP', 'Mac Book Pro 17', 'Mate book', 'Lenovo legion'], ['Windows 10', 'Linux', 'Android', 'iOS'], [['Mysql', 'Open Source', False], ['MS SQL Server', 'de paga', True]]]\n",
            "Mysql\n",
            "de paga\n"
          ],
          "name": "stdout"
        }
      ]
    }
  ]
}