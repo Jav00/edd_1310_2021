{
  "nbformat": 4,
  "nbformat_minor": 0,
  "metadata": {
    "colab": {
      "name": "8octubre_1310.ipynb",
      "provenance": [],
      "collapsed_sections": [],
      "authorship_tag": "ABX9TyOyKQzAd+rSy13BCqamaDjr",
      "include_colab_link": true
    },
    "kernelspec": {
      "name": "python3",
      "display_name": "Python 3"
    }
  },
  "cells": [
    {
      "cell_type": "markdown",
      "metadata": {
        "id": "view-in-github",
        "colab_type": "text"
      },
      "source": [
        "<a href=\"https://colab.research.google.com/github/Jav00/edd_1310_2021/blob/master/8octubre_1310.ipynb\" target=\"_parent\"><img src=\"https://colab.research.google.com/assets/colab-badge.svg\" alt=\"Open In Colab\"/></a>"
      ]
    },
    {
      "cell_type": "code",
      "metadata": {
        "id": "27e18DaF_aqP",
        "outputId": "72a33951-3afd-4c39-d1bf-de4af466a5a3",
        "colab": {
          "base_uri": "https://localhost:8080/",
          "height": 139
        }
      },
      "source": [
        "monitores =[[\"Samsung\",\"17.3 \\\"\",1024],[\"BenQ\",\"40\\\"\",2048]]\n",
        "procesadores = [[\"Intel\",\"i7\",3.4],[\"AMD\",\"razzer\",3.3],[\"Intel\",\"i3\",3.1]]\n",
        "memorias = [[\"Kingston\", \"8GB\",\"DDR4\"],[\"Kingston\", \"16GB\",\"DDR3\"],[\"ADATA\", \"32GB\",\"DDR4\"]]\n",
        " \n",
        "componentes = [monitores,procesadores,memorias]\n",
        " \n",
        "print(componentes)\n",
        "print(componentes[2][1][1])\n",
        "print(componentes[0][1][2]*2)\n",
        "print(componentes[1][1][1][1:4])\n",
        " \n",
        "print(componentes[2][2][0].lower())\n",
        "componentes[2].append([\"Patito\",\"32 GB\",\"DDR4\"])\n",
        "print(componentes[2])"
      ],
      "execution_count": 37,
      "outputs": [
        {
          "output_type": "stream",
          "text": [
            "[[['Samsung', '17.3 \"', 1024], ['BenQ', '40\"', 2048]], [['Intel', 'i7', 3.4], ['AMD', 'razzer', 3.3], ['Intel', 'i3', 3.1]], [['Kingston', '8GB', 'DDR4'], ['Kingston', '16GB', 'DDR3'], ['ADATA', '32GB', 'DDR4']]]\n",
            "16GB\n",
            "4096\n",
            "azz\n",
            "adata\n",
            "[['Kingston', '8GB', 'DDR4'], ['Kingston', '16GB', 'DDR3'], ['ADATA', '32GB', 'DDR4'], ['Patito', '32 GB', 'DDR4']]\n"
          ],
          "name": "stdout"
        }
      ]
    },
    {
      "cell_type": "code",
      "metadata": {
        "id": "9YtMgHLQH4Gb",
        "outputId": "76300cb7-d9e6-47f8-d2c9-4051f078b3a2",
        "colab": {
          "base_uri": "https://localhost:8080/",
          "height": 208
        }
      },
      "source": [
        "# copiar listas \n",
        "# extender listas\n",
        " \n",
        "frutas = [\"Manzana\",\"pera\"]\n",
        "otras_frutas = [\"Aguacate\",\"Sandia\"]\n",
        " \n",
        "print(frutas + otras_frutas)\n",
        "print(frutas)\n",
        " \n",
        "# + sobre listas\n",
        "# frutas = frutas + otras_frutas\n",
        "# print(frutas)\n",
        " \n",
        "# función extend()\n",
        "# frutas.extend(otras_frutas)\n",
        "# print (frutas)\n",
        " \n",
        "# frutas.append(otras_frutas)\n",
        "# print (frutas)\n",
        " \n",
        "# copiar\n",
        " \n",
        "colores=[\"azul\",\"rojo\",\"verde\",\"violeta\"]\n",
        "otros_colores=colores\n",
        " \n",
        "print (colores)\n",
        "print (otros_colores)\n",
        " \n",
        "otros_colores.append(\"Rosa\")\n",
        "print (otros_colores)\n",
        "print (colores)\n",
        " \n",
        "una_más = colores.copy()\n",
        "print (una_más)\n",
        "una_más.append(\"gris\")\n",
        "print (una_más)\n",
        "print(colores)\n",
        " \n",
        "# unpaking de listas\n",
        "alumno = [\"Jesús\",\"Pérez\",\"Herrera\",22,\"ICO\",10.0]\n",
        "# nombre = alumno[0]\n",
        "# paterno = alumno[1]\n",
        "# etc\n",
        " \n",
        "nombre, paterno, materno, edad, carrera, promedio = alumno\n",
        "print(f\"Alumno: {nombre} carrera:{carrera} promedio = {promedio}\")"
      ],
      "execution_count": null,
      "outputs": [
        {
          "output_type": "stream",
          "text": [
            "['Manzana', 'pera', 'Aguacate', 'Sandia']\n",
            "['Manzana', 'pera']\n",
            "['azul', 'rojo', 'verde', 'violeta']\n",
            "['azul', 'rojo', 'verde', 'violeta']\n",
            "['azul', 'rojo', 'verde', 'violeta', 'Rosa']\n",
            "['azul', 'rojo', 'verde', 'violeta', 'Rosa']\n",
            "['azul', 'rojo', 'verde', 'violeta', 'Rosa']\n",
            "['azul', 'rojo', 'verde', 'violeta', 'Rosa', 'gris']\n",
            "['azul', 'rojo', 'verde', 'violeta', 'Rosa']\n",
            "Alumno: Jesús carrera:ICO promedio = 10.0\n"
          ],
          "name": "stdout"
        }
      ]
    },
    {
      "cell_type": "markdown",
      "metadata": {
        "id": "EswcCTxCR3tJ"
      },
      "source": [
        " \n",
        "# tuplas\n",
        "- se declaran con ()\n",
        "- selector con []\n",
        "- No son mutables"
      ]
    },
    {
      "cell_type": "code",
      "metadata": {
        "id": "OYx4VY4USRWL",
        "outputId": "d6e6f2dc-567d-49a5-c46a-2521537e07e0",
        "colab": {
          "base_uri": "https://localhost:8080/",
          "height": 68
        }
      },
      "source": [
        "precios = (99.9,49.9,12.45,23.3,33.44,55.66)\n",
        "print (precios[1])\n",
        "#precios [1] = 50.0\n",
        "print (precios)\n",
        "print (precios[2:4])"
      ],
      "execution_count": null,
      "outputs": [
        {
          "output_type": "stream",
          "text": [
            "49.9\n",
            "(99.9, 49.9, 12.45, 23.3, 33.44, 55.66)\n",
            "(12.45, 23.3)\n"
          ],
          "name": "stdout"
        }
      ]
    },
    {
      "cell_type": "markdown",
      "metadata": {
        "id": "UTY07AKWTj6x"
      },
      "source": [
        "# Diccionarios \n",
        "- Se declaran con ()\n",
        "- Son mutables\n",
        "- Conjunto de partes llave: valor\n",
        "- equivalente a los Objetos JSON de JavaScript\n",
        "- Selector [str]"
      ]
    },
    {
      "cell_type": "code",
      "metadata": {
        "id": "z-NLml5CT6jq",
        "outputId": "59512e54-0713-42c6-de78-fafc429a17fa",
        "colab": {
          "base_uri": "https://localhost:8080/",
          "height": 139
        }
      },
      "source": [
        "cliente = {}\n",
        "print(cliente)\n",
        "alumno = {   \"num_cta\"  :3030303 }\n",
        "print (alumno)\n",
        " \n",
        "alumno = {   \n",
        "          \"num_cta\"  :677787687,\n",
        "          \"carrera\" :\"ICO\",\n",
        "          \"promedio\" : 9.8, \n",
        "          \"materias\" : [\"EDD\",\"CYP\",\"Calidad\",\"Emprendimiento\"],\n",
        "          \"dirección\" : {\n",
        "                         \"calle\":\"rancho seco\",\n",
        "                         \"número\":23,\n",
        "                         \"delegación\":\"Neza\",\n",
        "                         \"estado\":{\n",
        "                                  \"id\":15,\n",
        "                                  \"nombre\":\"Estado de México\",\n",
        "                                  \"nombre_corto\":\"EdoMex\"\n",
        "                                  },\n",
        "                         \"CP\":57170\n",
        "                        }\n",
        "                          \n",
        "}\n",
        " \n",
        "print (alumno)\n",
        "print (alumno ['materias'])\n",
        "print (alumno ['promedio'])\n",
        "print (alumno ['dirección']['estado']['nombre_corto'])"
      ],
      "execution_count": 38,
      "outputs": [
        {
          "output_type": "stream",
          "text": [
            "{}\n",
            "{'num_cta': 3030303}\n",
            "{'num_cta': 677787687, 'carrera': 'ICO', 'promedio': 9.8, 'materias': ['EDD', 'CYP', 'Calidad', 'Emprendimiento'], 'dirección': {'calle': 'rancho seco', 'número': 23, 'delegación': 'Neza', 'estado': {'id': 15, 'nombre': 'Estado de México', 'nombre_corto': 'EdoMex'}, 'CP': 57170}}\n",
            "['EDD', 'CYP', 'Calidad', 'Emprendimiento']\n",
            "9.8\n",
            "EdoMex\n"
          ],
          "name": "stdout"
        }
      ]
    }
  ]
}