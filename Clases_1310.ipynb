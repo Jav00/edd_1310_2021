{
  "nbformat": 4,
  "nbformat_minor": 0,
  "metadata": {
    "colab": {
      "name": "Clases_1310.ipynb",
      "provenance": [],
      "collapsed_sections": [],
      "authorship_tag": "ABX9TyMEpf2gXzmooMh0XwBNv6R4",
      "include_colab_link": true
    },
    "kernelspec": {
      "name": "python3",
      "display_name": "Python 3"
    }
  },
  "cells": [
    {
      "cell_type": "markdown",
      "metadata": {
        "id": "view-in-github",
        "colab_type": "text"
      },
      "source": [
        "<a href=\"https://colab.research.google.com/github/Jav00/edd_1310_2021/blob/master/Clases_1310.ipynb\" target=\"_parent\"><img src=\"https://colab.research.google.com/assets/colab-badge.svg\" alt=\"Open In Colab\"/></a>"
      ]
    },
    {
      "cell_type": "code",
      "metadata": {
        "id": "hd1cKqSdj27z",
        "outputId": "d71a5361-b116-4f3b-961e-54273d6239a1",
        "colab": {
          "base_uri": "https://localhost:8080/",
          "height": 102
        }
      },
      "source": [
        " class Persona:\n",
        "    def __init__(self,n,a,s):\n",
        "        self.__nombre=n\n",
        "        self.__edad=a\n",
        "        self.__estatura=s\n",
        "        \n",
        "    def to_string(self):\n",
        "        return \"Nombre:\"+self.__nombre+\" \\nEdad:\"+self.__edad+\" \\nEstatura:\"+self.__estatura\n",
        "   \n",
        "    def Dormir(self):\n",
        "        return self.__nombre+\", se recomienda dormir 8 horas al día.\"\n",
        " \n",
        "    def Comer(self):\n",
        "        return self.__nombre+\", debes comer sanamente.\"\n",
        " \n",
        "registro = Persona(\"Javier\",\"21\",\"1.71\")\n",
        "print (registro.to_string())\n",
        "print (registro.Dormir())\n",
        "print (registro.Comer())"
      ],
      "execution_count": 12,
      "outputs": [
        {
          "output_type": "stream",
          "text": [
            "Nombre:Javier \n",
            "Edad:21 \n",
            "Estatura:1.71\n",
            "Javier, se recomienda dormir 8 horas al día.\n",
            "Javier, debes comer sanamente.\n"
          ],
          "name": "stdout"
        }
      ]
    },
    {
      "cell_type": "code",
      "metadata": {
        "id": "O6V6DUT9pdGB",
        "outputId": "61359c0c-a577-4eb3-f84a-bbc4dc4f7695",
        "colab": {
          "base_uri": "https://localhost:8080/",
          "height": 122
        }
      },
      "source": [
        " class Celular:\n",
        "    def __init__(self,m,n,o):\n",
        "        self.__marca=m\n",
        "        self.__modelo=n\n",
        "        self.__memoria=o\n",
        "        \n",
        "    def to_string(self):\n",
        "        return \"Marca: \"+self.__marca+\" \\nModelo: \"+self.__modelo+\" \\nCapacidad de memoria: \"+self.__memoria\n",
        "   \n",
        "    def Llamar(self):\n",
        "        return \"Comuníquese con su compañía telefónica.\"\n",
        " \n",
        "    def Alarma(self):\n",
        "        return \"El dispositivo \"+self.__modelo+\" tiene un sistema especial para programar alarmas.\"\n",
        " \n",
        "compra = Celular(\"Motorola\",\"One fusion+\",\"126 GB\")\n",
        "print (compra.to_string())\n",
        "print (compra.Llamar())\n",
        "print (compra.Alarma())"
      ],
      "execution_count": 17,
      "outputs": [
        {
          "output_type": "stream",
          "text": [
            "Marca: Motorola \n",
            "Modelo: One fusion+ \n",
            "Capacidad de memoria: 126 GB\n",
            "Comunicarse con su compañía telefónica.\n",
            "El dispositivo One fusion+ tiene un sistema especial para programar alarmas.\n"
          ],
          "name": "stdout"
        }
      ]
    }
  ]
}