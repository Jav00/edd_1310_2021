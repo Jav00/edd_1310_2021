{
  "nbformat": 4,
  "nbformat_minor": 0,
  "metadata": {
    "colab": {
      "name": "Datos",
      "provenance": [],
      "collapsed_sections": [],
      "authorship_tag": "ABX9TyOyQevfz/cKB2NTo3feZPaw",
      "include_colab_link": true
    },
    "kernelspec": {
      "name": "python3",
      "display_name": "Python 3"
    }
  },
  "cells": [
    {
      "cell_type": "markdown",
      "metadata": {
        "id": "view-in-github",
        "colab_type": "text"
      },
      "source": [
        "<a href=\"https://colab.research.google.com/github/Jav00/edd_1310_2021/blob/master/Datos.ipynb\" target=\"_parent\"><img src=\"https://colab.research.google.com/assets/colab-badge.svg\" alt=\"Open In Colab\"/></a>"
      ]
    },
    {
      "cell_type": "code",
      "metadata": {
        "id": "EVd1N1xCsP3R",
        "outputId": "586fe8c2-39ea-4f17-c8d4-7b975fe695aa",
        "colab": {
          "base_uri": "https://localhost:8080/",
          "height": 1000
        }
      },
      "source": [
        " \n",
        "arch = open('Datos.txt','rt')\n",
        "data = 'ppp'\n",
        "res=0\n",
        "ren=0\n",
        "while (data != ''):\n",
        "    \n",
        "    # Saca la línea y quita los espacios\n",
        "    data = arch.readline().replace(' ','')\n",
        "    # Hace un str de caracteres que estén separados por coma\n",
        "    if (data.count(',')>2):\n",
        "        ren=ren+1\n",
        "        numeros = data.lstrip().split(',')\n",
        "        \n",
        " \n",
        "        if (numeros!=''):\n",
        "            for j in range(len(numeros)): \n",
        "                numeros[ j ] = int((numeros[j]).strip())\n",
        " \n",
        "        \n",
        "        print (f\"Renglón numero {ren} :\")\n",
        "        print (f\"Cadena de números {data}\")\n",
        "        print (f\"Arreglo de números {numeros}\")\n",
        "        print (f\"Suma de los valores del renglón {ren} :\")\n",
        "        suma = sum(numeros)\n",
        "        print (suma)\n",
        "        print (\"+++++++++++++++++++++++++++++++++\")\n",
        "        res = suma + res\n",
        "print (f\"\\nSUMA TOTAL = {res}\")\n",
        "arch.close()"
      ],
      "execution_count": 122,
      "outputs": [
        {
          "output_type": "stream",
          "text": [
            "Renglón numero 1 :\n",
            "Cadena de números 1,2,1,14,29,45,5,58,56,10,29,14,88,17,4,3,1,7,12,10\n",
            "\n",
            "Arreglo de números [1, 2, 1, 14, 29, 45, 5, 58, 56, 10, 29, 14, 88, 17, 4, 3, 1, 7, 12, 10]\n",
            "Suma de los valores del renglón 1 :\n",
            "406\n",
            "+++++++++++++++++++++++++++++++++\n",
            "Renglón numero 2 :\n",
            "Cadena de números 2,23,5,8,44,2,2,13,5,9,10,16,98,76,47,1,1,3,2\n",
            "\n",
            "Arreglo de números [2, 23, 5, 8, 44, 2, 2, 13, 5, 9, 10, 16, 98, 76, 47, 1, 1, 3, 2]\n",
            "Suma de los valores del renglón 2 :\n",
            "367\n",
            "+++++++++++++++++++++++++++++++++\n",
            "Renglón numero 3 :\n",
            "Cadena de números 3,87,15,11,9,7,90,97,21,3,4,1,8,88,74,32,34,43,17,77,93\n",
            "\n",
            "Arreglo de números [3, 87, 15, 11, 9, 7, 90, 97, 21, 3, 4, 1, 8, 88, 74, 32, 34, 43, 17, 77, 93]\n",
            "Suma de los valores del renglón 3 :\n",
            "814\n",
            "+++++++++++++++++++++++++++++++++\n",
            "Renglón numero 4 :\n",
            "Cadena de números 4,46,8,1,6,2,10,37,84,4,5,9,10,2,6,31,1,1,8,4,20,33,23,18,45\n",
            "\n",
            "Arreglo de números [4, 46, 8, 1, 6, 2, 10, 37, 84, 4, 5, 9, 10, 2, 6, 31, 1, 1, 8, 4, 20, 33, 23, 18, 45]\n",
            "Suma de los valores del renglón 4 :\n",
            "418\n",
            "+++++++++++++++++++++++++++++++++\n",
            "Renglón numero 5 :\n",
            "Cadena de números 55,3,2,29,58,83,9,17,1,43,20,93,31,46,43,77,8,44,45,17,62\n",
            "\n",
            "Arreglo de números [55, 3, 2, 29, 58, 83, 9, 17, 1, 43, 20, 93, 31, 46, 43, 77, 8, 44, 45, 17, 62]\n",
            "Suma de los valores del renglón 5 :\n",
            "786\n",
            "+++++++++++++++++++++++++++++++++\n",
            "Renglón numero 6 :\n",
            "Cadena de números 6,74,13,44,18,45,11,93,2,1,1,1,25,1,42,18,22,44,52\n",
            "\n",
            "Arreglo de números [6, 74, 13, 44, 18, 45, 11, 93, 2, 1, 1, 1, 25, 1, 42, 18, 22, 44, 52]\n",
            "Suma de los valores del renglón 6 :\n",
            "513\n",
            "+++++++++++++++++++++++++++++++++\n",
            "Renglón numero 7 :\n",
            "Cadena de números 7,88,93,6,54,2,8,1,41,86,79,33,48,9,32,63,18,7,33,2,1,16,11,7\n",
            "\n",
            "Arreglo de números [7, 88, 93, 6, 54, 2, 8, 1, 41, 86, 79, 33, 48, 9, 32, 63, 18, 7, 33, 2, 1, 16, 11, 7]\n",
            "Suma de los valores del renglón 7 :\n",
            "745\n",
            "+++++++++++++++++++++++++++++++++\n",
            "Renglón numero 8 :\n",
            "Cadena de números 8,0,22,17,30,6,2,12,47,37,34,85,47,33,2,6,8,4,5,29,30,42,77,2\n",
            "\n",
            "Arreglo de números [8, 0, 22, 17, 30, 6, 2, 12, 47, 37, 34, 85, 47, 33, 2, 6, 8, 4, 5, 29, 30, 42, 77, 2]\n",
            "Suma de los valores del renglón 8 :\n",
            "585\n",
            "+++++++++++++++++++++++++++++++++\n",
            "Renglón numero 9 :\n",
            "Cadena de números 9,2,3,4,1,1,3,6,7,7,8,9,5,1,3,4,9,10,12,3,1,5,6,22,11,0,2\n",
            "\n",
            "Arreglo de números [9, 2, 3, 4, 1, 1, 3, 6, 7, 7, 8, 9, 5, 1, 3, 4, 9, 10, 12, 3, 1, 5, 6, 22, 11, 0, 2]\n",
            "Suma de los valores del renglón 9 :\n",
            "154\n",
            "+++++++++++++++++++++++++++++++++\n",
            "Renglón numero 10 :\n",
            "Cadena de números 1,0,2,55,9,3,55,23,1,6,9,4,5,3,3,2,1,3,8,1,6,10,0,1,5,1,3\n",
            "\n",
            "Arreglo de números [1, 0, 2, 55, 9, 3, 55, 23, 1, 6, 9, 4, 5, 3, 3, 2, 1, 3, 8, 1, 6, 10, 0, 1, 5, 1, 3]\n",
            "Suma de los valores del renglón 10 :\n",
            "220\n",
            "+++++++++++++++++++++++++++++++++\n",
            "\n",
            "SUMA TOTAL = 5008\n"
          ],
          "name": "stdout"
        }
      ]
    },
    {
      "cell_type": "code",
      "metadata": {
        "id": "Jnzv0eTs2Bu4"
      },
      "source": [
        ""
      ],
      "execution_count": null,
      "outputs": []
    }
  ]
}