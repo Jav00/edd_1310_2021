{
  "nbformat": 4,
  "nbformat_minor": 0,
  "metadata": {
    "colab": {
      "name": "Tarea12_recorridoArbolesBin.ipynb",
      "provenance": [],
      "authorship_tag": "ABX9TyMSedDBpT/+4NhTOblJRydg",
      "include_colab_link": true
    },
    "kernelspec": {
      "name": "python3",
      "display_name": "Python 3"
    }
  },
  "cells": [
    {
      "cell_type": "markdown",
      "metadata": {
        "id": "view-in-github",
        "colab_type": "text"
      },
      "source": [
        "<a href=\"https://colab.research.google.com/github/Jav00/edd_1310_2021/blob/master/Tarea12_recorridoArbol.ipynb\" target=\"_parent\"><img src=\"https://colab.research.google.com/assets/colab-badge.svg\" alt=\"Open In Colab\"/></a>"
      ]
    },
    {
      "cell_type": "code",
      "metadata": {
        "colab": {
          "base_uri": "https://localhost:8080/"
        },
        "id": "jT3umeDvyewD",
        "outputId": "aa437068-7097-4132-e263-202ed5c6ea55"
      },
      "source": [
        "class NodoArbol:\n",
        "    def __init__(self, value, left=None, right=None):\n",
        "        self.data  = value\n",
        "        self.left  = left\n",
        "        self.right = right\n",
        " \n",
        "def recorridoIn(base):\n",
        "    if base.left != None:\n",
        "        recorridoIn(base.left)\n",
        "    print(f\"({base.data})\", end=' ')\n",
        "    if base.right != None:\n",
        "        recorridoIn(base.right)\n",
        " \n",
        "def recorridoPre(base):\n",
        "    print(f\"({base.data})\", end=' ')\n",
        "    if base.left != None:\n",
        "        recorridoPre(base.left)\n",
        "    if base.right != None:\n",
        "        recorridoPre(base.right)\n",
        " \n",
        "def recorridoPost(base):\n",
        "    if base.left != None:\n",
        "        recorridoPost(base.left)\n",
        "    if base.right != None:\n",
        "        recorridoPost(base.right)\n",
        "    print(f\"({base.data})\", end=' ')\n",
        " \n",
        "print(\"Árbol 1\")\n",
        "a1 = NodoArbol(\"+\" ,NodoArbol(\"-\" ,NodoArbol(5) ,NodoArbol(4)) ,NodoArbol(\"*\" ,NodoArbol(3),NodoArbol(2)))\n",
        "print(\"\\n--------- Infija ---------\")\n",
        "recorridoIn(a1)\n",
        "print()\n",
        "print(\"\\n--------- Prefija ---------\")\n",
        "recorridoPre(a1)\n",
        "print ()\n",
        "print(\"\\n--------- Posfija ---------\")\n",
        "recorridoPost(a1)\n",
        "print ()\n",
        "print(\"\\nÁrbol 2\")\n",
        " \n",
        "a2 = NodoArbol(40 ,NodoArbol(30 ,NodoArbol(25) ,NodoArbol(35)) ,NodoArbol(50 ,NodoArbol(45),NodoArbol(60)))\n",
        "print(\"\\n--------- Infija ---------\")\n",
        "recorridoIn(a2)\n",
        "print()\n",
        "print(\"\\n--------- Prefija ---------\")\n",
        "recorridoPre(a2)\n",
        "print ()\n",
        "print(\"\\n--------- Posfija ---------\")\n",
        "recorridoPost(a2)"
      ],
      "execution_count": 36,
      "outputs": [
        {
          "output_type": "stream",
          "text": [
            "Árbol 1\n",
            "\n",
            "--------- Infija ---------\n",
            "(5) (-) (4) (+) (3) (*) (2) \n",
            "\n",
            "--------- Prefija ---------\n",
            "(+) (-) (5) (4) (*) (3) (2) \n",
            "\n",
            "--------- Posfija ---------\n",
            "(5) (4) (-) (3) (2) (*) (+) \n",
            "\n",
            "Árbol 2\n",
            "\n",
            "--------- Infija ---------\n",
            "(25) (30) (35) (40) (45) (50) (60) \n",
            "\n",
            "--------- Prefija ---------\n",
            "(40) (30) (25) (35) (50) (45) (60) \n",
            "\n",
            "--------- Posfija ---------\n",
            "(25) (35) (30) (45) (60) (50) (40) "
          ],
          "name": "stdout"
        }
      ]
    }
  ]
}