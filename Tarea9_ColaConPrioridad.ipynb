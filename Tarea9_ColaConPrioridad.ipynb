{
  "nbformat": 4,
  "nbformat_minor": 0,
  "metadata": {
    "colab": {
      "name": "ColaConPrioridad.ipynb",
      "provenance": [],
      "collapsed_sections": [],
      "authorship_tag": "ABX9TyOm9EoLxWNUDQFNO+QwUMAM",
      "include_colab_link": true
    },
    "kernelspec": {
      "name": "python3",
      "display_name": "Python 3"
    }
  },
  "cells": [
    {
      "cell_type": "markdown",
      "metadata": {
        "id": "view-in-github",
        "colab_type": "text"
      },
      "source": [
        "<a href=\"https://colab.research.google.com/github/Jav00/edd_1310_2021/blob/master/Tarea9_ColaConPrioridad.ipynb\" target=\"_parent\"><img src=\"https://colab.research.google.com/assets/colab-badge.svg\" alt=\"Open In Colab\"/></a>"
      ]
    },
    {
      "cell_type": "code",
      "metadata": {
        "id": "xb1TEcSc0sbi",
        "colab": {
          "base_uri": "https://localhost:8080/"
        },
        "outputId": "68b447e4-1228-41ec-8df6-848c9b30a038"
      },
      "source": [
        "class Queue:\n",
        "    def __init__(self):\n",
        "        self.__data = list()\n",
        " \n",
        "    def is_empty(self):\n",
        "        return len(self.__data) == 0\n",
        " \n",
        "    def length(self):\n",
        "        return len(self.__data)\n",
        " \n",
        "    def enqueue(self, elem):\n",
        "        self.__data.append(elem)\n",
        " \n",
        "    def dequeue(self):\n",
        "        if not self.is_empty:\n",
        "            print(\"COLA VACIA\")\n",
        "        else:\n",
        "            return self.__data.pop(0)\n",
        " \n",
        "    def to_string (self):\n",
        "        cadena = \"\"\n",
        "        print (\"COLA:\")\n",
        "        for elem in self.__data:\n",
        "            cadena = cadena + \"|\" + str(elem)\n",
        "        cadena = cadena + \"|\"\n",
        "        return cadena\n",
        " \n",
        "class PriorityQueue:\n",
        "    def __init__(self):\n",
        "        self.__data = list()\n",
        " \n",
        "    def is_empty(self):\n",
        "        return len(self.__data) == 0\n",
        " \n",
        "    def lenght(self):\n",
        "        return len(self.__data)\n",
        " \n",
        "    def enqueue(self, prioridad, elemento):\n",
        "       \n",
        "        posicion = 0\n",
        "        for objet in self.__data:\n",
        "            if prioridad >= objet[0]:\n",
        "                posicion += 1\n",
        "        \n",
        "        if self.is_empty() or self.lenght() == posicion:\n",
        "            self.__data.append((prioridad, elemento))\n",
        "        else:\n",
        "            self.__data.insert(posicion, (prioridad, elemento))\n",
        " \n",
        "    def dequeue(self):\n",
        "        try:\n",
        "            return self.__data.pop(0)\n",
        "        except:\n",
        "            print (\"~COLA VACIA, NO SE PUEDEN SACAR ELEMENTOS~\\n\")\n",
        " \n",
        "    def to_string(self):\n",
        "        cadena = \"\"\n",
        "        print (\"COLA:\")\n",
        "        for elem in self.__data:\n",
        "            cadena = cadena + \"|\" + str(elem)\n",
        "        cadena = cadena + \"|\"\n",
        "        return cadena\n",
        " \n",
        " \n",
        "print(\"------ Cola con prioridad ------\")\n",
        " \n",
        "cpa = PriorityQueue()\n",
        "cpa.dequeue()\n",
        "print(f\"Tamanio: {cpa.lenght()}\")\n",
        "print(f\"La cola esta vacia?: {cpa.is_empty()}\")\n",
        "print (\"\\n*Agregamos elementos*\")\n",
        "cpa.enqueue(4, \"Maestre\")\n",
        "cpa.enqueue(2, \"Ninos\")\n",
        "cpa.enqueue(4, \"Mecanico\")\n",
        "cpa.enqueue(3, \"Hombres\")\n",
        "cpa.enqueue(4, \"Vigia\")\n",
        "cpa.enqueue(5, \"Capitan\")\n",
        "cpa.enqueue(4, \"Timonel\")\n",
        "cpa.enqueue(3, \"Mujeres\")\n",
        "cpa.enqueue(2, \"Ancianos\")\n",
        "cpa.enqueue(1, \"Ninas\") \n",
        "print ()\n",
        "print(f\"La cola esta vacia? {cpa.is_empty()}\")\n",
        "print(f\"Tamanio: {cpa.lenght()}\")\n",
        "print ()\n",
        "print(cpa.to_string())\n",
        "print (\"\\n!Hora de abandonar el barco¡\")\n",
        "print ()\n",
        "for l in range(cpa.lenght()):\n",
        "    print(f\"Salen {cpa.dequeue()}\")\n",
        "print(f\"\\nLa cola esta vacia: {cpa.is_empty()}\")"
      ],
      "execution_count": 77,
      "outputs": [
        {
          "output_type": "stream",
          "text": [
            "------ Cola con prioridad ------\n",
            "~COLA VACIA, NO SE PUEDEN SACAR ELEMENTOS~\n",
            "\n",
            "Tamanio: 0\n",
            "La cola esta vacia?: True\n",
            "\n",
            "*Agregamos elementos*\n",
            "\n",
            "La cola esta vacia? False\n",
            "Tamanio: 10\n",
            "\n",
            "COLA:\n",
            "|(1, 'Ninas')|(2, 'Ninos')|(2, 'Ancianos')|(3, 'Hombres')|(3, 'Mujeres')|(4, 'Maestre')|(4, 'Mecanico')|(4, 'Vigia')|(4, 'Timonel')|(5, 'Capitan')|\n",
            "\n",
            "!Hora de abandonar el barco¡\n",
            "\n",
            "Salen (1, 'Ninas')\n",
            "Salen (2, 'Ninos')\n",
            "Salen (2, 'Ancianos')\n",
            "Salen (3, 'Hombres')\n",
            "Salen (3, 'Mujeres')\n",
            "Salen (4, 'Maestre')\n",
            "Salen (4, 'Mecanico')\n",
            "Salen (4, 'Vigia')\n",
            "Salen (4, 'Timonel')\n",
            "Salen (5, 'Capitan')\n",
            "\n",
            "La cola esta vacia: True\n"
          ],
          "name": "stdout"
        }
      ]
    },
    {
      "cell_type": "markdown",
      "metadata": {
        "id": "ILZOScLrAxjp"
      },
      "source": [
        ""
      ]
    }
  ]
}